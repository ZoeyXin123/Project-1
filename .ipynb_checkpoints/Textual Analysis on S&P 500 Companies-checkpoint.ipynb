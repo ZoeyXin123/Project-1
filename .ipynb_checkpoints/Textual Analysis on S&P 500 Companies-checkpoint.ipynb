{
 "cells": [
  {
   "cell_type": "markdown",
   "id": "ae0a56be",
   "metadata": {},
   "source": [
    "# Calculate excess return"
   ]
  },
  {
   "cell_type": "code",
   "execution_count": 55,
   "id": "e9173ab5",
   "metadata": {},
   "outputs": [],
   "source": [
    "import pandas as pd\n",
    "import numpy as np\n",
    "import matplotlib.pyplot as plt\n",
    "import json\n",
    "from bs4 import BeautifulSoup"
   ]
  },
  {
   "cell_type": "code",
   "execution_count": 14,
   "id": "a7ffee63",
   "metadata": {},
   "outputs": [],
   "source": [
    "market_return = pd.read_csv('market_return.csv')\n",
    "stock_returns = pd.read_csv('return_with_PERMNO.csv')"
   ]
  },
  {
   "cell_type": "code",
   "execution_count": 16,
   "id": "c226a5b3",
   "metadata": {},
   "outputs": [],
   "source": [
    "pv = pd.pivot(stock_returns[['date', 'PERMNO', 'RETX']], index='date', columns='PERMNO')['RETX']\n",
    "four_day_return = (pv.shift(-1)+1)*(pv.shift(-2)+1)*(pv.shift(-3)+1)-1\n",
    "market_return.set_index('caldt', inplace=True)\n",
    "four_day_market_return = (market_return.shift(-1)+1)*(market_return.shift(-2)+1)*(market_return.shift(-3)+1)-1\n",
    "excess_return = four_day_return.sub(four_day_market_return['vwretd'], axis='index')"
   ]
  },
  {
   "cell_type": "code",
   "execution_count": 17,
   "id": "ae3446a2",
   "metadata": {},
   "outputs": [
    {
     "data": {
      "text/html": [
       "<div>\n",
       "<style scoped>\n",
       "    .dataframe tbody tr th:only-of-type {\n",
       "        vertical-align: middle;\n",
       "    }\n",
       "\n",
       "    .dataframe tbody tr th {\n",
       "        vertical-align: top;\n",
       "    }\n",
       "\n",
       "    .dataframe thead th {\n",
       "        text-align: right;\n",
       "    }\n",
       "</style>\n",
       "<table border=\"1\" class=\"dataframe\">\n",
       "  <thead>\n",
       "    <tr style=\"text-align: right;\">\n",
       "      <th>PERMNO</th>\n",
       "      <th>10104</th>\n",
       "      <th>10107</th>\n",
       "      <th>10138</th>\n",
       "      <th>10145</th>\n",
       "      <th>10147</th>\n",
       "      <th>10299</th>\n",
       "      <th>10516</th>\n",
       "      <th>10696</th>\n",
       "      <th>10909</th>\n",
       "      <th>11308</th>\n",
       "      <th>...</th>\n",
       "      <th>92890</th>\n",
       "      <th>93002</th>\n",
       "      <th>93089</th>\n",
       "      <th>93096</th>\n",
       "      <th>93132</th>\n",
       "      <th>93159</th>\n",
       "      <th>93246</th>\n",
       "      <th>93422</th>\n",
       "      <th>93429</th>\n",
       "      <th>93436</th>\n",
       "    </tr>\n",
       "    <tr>\n",
       "      <th>date</th>\n",
       "      <th></th>\n",
       "      <th></th>\n",
       "      <th></th>\n",
       "      <th></th>\n",
       "      <th></th>\n",
       "      <th></th>\n",
       "      <th></th>\n",
       "      <th></th>\n",
       "      <th></th>\n",
       "      <th></th>\n",
       "      <th></th>\n",
       "      <th></th>\n",
       "      <th></th>\n",
       "      <th></th>\n",
       "      <th></th>\n",
       "      <th></th>\n",
       "      <th></th>\n",
       "      <th></th>\n",
       "      <th></th>\n",
       "      <th></th>\n",
       "      <th></th>\n",
       "    </tr>\n",
       "  </thead>\n",
       "  <tbody>\n",
       "    <tr>\n",
       "      <th>20160104</th>\n",
       "      <td>0.013791</td>\n",
       "      <td>-0.014341</td>\n",
       "      <td>-0.010941</td>\n",
       "      <td>0.001090</td>\n",
       "      <td>0.004734</td>\n",
       "      <td>-0.033475</td>\n",
       "      <td>-0.003179</td>\n",
       "      <td>0.019238</td>\n",
       "      <td>0.025227</td>\n",
       "      <td>0.015256</td>\n",
       "      <td>...</td>\n",
       "      <td>0.001163</td>\n",
       "      <td>-0.059333</td>\n",
       "      <td>0.003638</td>\n",
       "      <td>0.025779</td>\n",
       "      <td>-0.001412</td>\n",
       "      <td>-0.147594</td>\n",
       "      <td>0.003213</td>\n",
       "      <td>-0.102285</td>\n",
       "      <td>0.015993</td>\n",
       "      <td>-0.001083</td>\n",
       "    </tr>\n",
       "    <tr>\n",
       "      <th>20160105</th>\n",
       "      <td>0.018436</td>\n",
       "      <td>-0.003196</td>\n",
       "      <td>-0.026431</td>\n",
       "      <td>-0.001944</td>\n",
       "      <td>0.005445</td>\n",
       "      <td>-0.030361</td>\n",
       "      <td>-0.004836</td>\n",
       "      <td>0.019743</td>\n",
       "      <td>0.057578</td>\n",
       "      <td>0.021772</td>\n",
       "      <td>...</td>\n",
       "      <td>-0.011298</td>\n",
       "      <td>-0.021558</td>\n",
       "      <td>0.024089</td>\n",
       "      <td>0.027403</td>\n",
       "      <td>0.004994</td>\n",
       "      <td>-0.094820</td>\n",
       "      <td>0.023868</td>\n",
       "      <td>-0.083335</td>\n",
       "      <td>0.037496</td>\n",
       "      <td>-0.009420</td>\n",
       "    </tr>\n",
       "    <tr>\n",
       "      <th>20160106</th>\n",
       "      <td>0.008489</td>\n",
       "      <td>0.000679</td>\n",
       "      <td>-0.023401</td>\n",
       "      <td>-0.004306</td>\n",
       "      <td>0.000185</td>\n",
       "      <td>-0.003688</td>\n",
       "      <td>-0.000880</td>\n",
       "      <td>0.018599</td>\n",
       "      <td>0.026809</td>\n",
       "      <td>0.015570</td>\n",
       "      <td>...</td>\n",
       "      <td>-0.056621</td>\n",
       "      <td>-0.006331</td>\n",
       "      <td>0.025018</td>\n",
       "      <td>-0.009165</td>\n",
       "      <td>-0.005926</td>\n",
       "      <td>-0.095091</td>\n",
       "      <td>0.049152</td>\n",
       "      <td>-0.042943</td>\n",
       "      <td>0.045704</td>\n",
       "      <td>-0.018031</td>\n",
       "    </tr>\n",
       "    <tr>\n",
       "      <th>20160107</th>\n",
       "      <td>0.011616</td>\n",
       "      <td>0.013892</td>\n",
       "      <td>-0.003020</td>\n",
       "      <td>0.001593</td>\n",
       "      <td>-0.005447</td>\n",
       "      <td>0.010365</td>\n",
       "      <td>-0.005044</td>\n",
       "      <td>0.014669</td>\n",
       "      <td>0.028035</td>\n",
       "      <td>0.014212</td>\n",
       "      <td>...</td>\n",
       "      <td>-0.063507</td>\n",
       "      <td>0.008940</td>\n",
       "      <td>0.022599</td>\n",
       "      <td>-0.013252</td>\n",
       "      <td>-0.012886</td>\n",
       "      <td>-0.126165</td>\n",
       "      <td>0.079616</td>\n",
       "      <td>-0.045500</td>\n",
       "      <td>0.014925</td>\n",
       "      <td>-0.024140</td>\n",
       "    </tr>\n",
       "    <tr>\n",
       "      <th>20160108</th>\n",
       "      <td>0.000024</td>\n",
       "      <td>0.003290</td>\n",
       "      <td>0.008978</td>\n",
       "      <td>0.002962</td>\n",
       "      <td>0.005033</td>\n",
       "      <td>0.021126</td>\n",
       "      <td>-0.010277</td>\n",
       "      <td>0.008478</td>\n",
       "      <td>0.009495</td>\n",
       "      <td>0.024666</td>\n",
       "      <td>...</td>\n",
       "      <td>-0.038252</td>\n",
       "      <td>-0.021668</td>\n",
       "      <td>-0.003696</td>\n",
       "      <td>-0.025227</td>\n",
       "      <td>0.008786</td>\n",
       "      <td>-0.153189</td>\n",
       "      <td>0.042904</td>\n",
       "      <td>-0.074662</td>\n",
       "      <td>0.019033</td>\n",
       "      <td>-0.034189</td>\n",
       "    </tr>\n",
       "  </tbody>\n",
       "</table>\n",
       "<p>5 rows × 674 columns</p>\n",
       "</div>"
      ],
      "text/plain": [
       "PERMNO       10104     10107     10138     10145     10147     10299  \\\n",
       "date                                                                   \n",
       "20160104  0.013791 -0.014341 -0.010941  0.001090  0.004734 -0.033475   \n",
       "20160105  0.018436 -0.003196 -0.026431 -0.001944  0.005445 -0.030361   \n",
       "20160106  0.008489  0.000679 -0.023401 -0.004306  0.000185 -0.003688   \n",
       "20160107  0.011616  0.013892 -0.003020  0.001593 -0.005447  0.010365   \n",
       "20160108  0.000024  0.003290  0.008978  0.002962  0.005033  0.021126   \n",
       "\n",
       "PERMNO       10516     10696     10909     11308  ...     92890     93002  \\\n",
       "date                                              ...                       \n",
       "20160104 -0.003179  0.019238  0.025227  0.015256  ...  0.001163 -0.059333   \n",
       "20160105 -0.004836  0.019743  0.057578  0.021772  ... -0.011298 -0.021558   \n",
       "20160106 -0.000880  0.018599  0.026809  0.015570  ... -0.056621 -0.006331   \n",
       "20160107 -0.005044  0.014669  0.028035  0.014212  ... -0.063507  0.008940   \n",
       "20160108 -0.010277  0.008478  0.009495  0.024666  ... -0.038252 -0.021668   \n",
       "\n",
       "PERMNO       93089     93096     93132     93159     93246     93422  \\\n",
       "date                                                                   \n",
       "20160104  0.003638  0.025779 -0.001412 -0.147594  0.003213 -0.102285   \n",
       "20160105  0.024089  0.027403  0.004994 -0.094820  0.023868 -0.083335   \n",
       "20160106  0.025018 -0.009165 -0.005926 -0.095091  0.049152 -0.042943   \n",
       "20160107  0.022599 -0.013252 -0.012886 -0.126165  0.079616 -0.045500   \n",
       "20160108 -0.003696 -0.025227  0.008786 -0.153189  0.042904 -0.074662   \n",
       "\n",
       "PERMNO       93429     93436  \n",
       "date                          \n",
       "20160104  0.015993 -0.001083  \n",
       "20160105  0.037496 -0.009420  \n",
       "20160106  0.045704 -0.018031  \n",
       "20160107  0.014925 -0.024140  \n",
       "20160108  0.019033 -0.034189  \n",
       "\n",
       "[5 rows x 674 columns]"
      ]
     },
     "execution_count": 17,
     "metadata": {},
     "output_type": "execute_result"
    }
   ],
   "source": [
    "excess_return.head()"
   ]
  },
  {
   "cell_type": "markdown",
   "id": "884d36c5",
   "metadata": {},
   "source": [
    "# Data preprocessing for 10-Ks"
   ]
  },
  {
   "cell_type": "code",
   "execution_count": 57,
   "id": "6c8988bc",
   "metadata": {},
   "outputs": [],
   "source": [
    "with open('sample.json', 'r') as f:\n",
    "    all_data = json.load(f)"
   ]
  },
  {
   "cell_type": "code",
   "execution_count": 64,
   "id": "15053bd6",
   "metadata": {},
   "outputs": [],
   "source": [
    "data = all_data['AMZN'][0]"
   ]
  },
  {
   "cell_type": "code",
   "execution_count": 68,
   "id": "5103cb8e",
   "metadata": {},
   "outputs": [
    {
     "data": {
      "text/plain": [
       "dict_keys(['cik', 'file', 'file_date'])"
      ]
     },
     "execution_count": 68,
     "metadata": {},
     "output_type": "execute_result"
    }
   ],
   "source": [
    "data.keys()"
   ]
  },
  {
   "cell_type": "code",
   "execution_count": null,
   "id": "e93ad3eb",
   "metadata": {},
   "outputs": [],
   "source": []
  },
  {
   "cell_type": "markdown",
   "id": "5d5820a1",
   "metadata": {},
   "source": [
    "# Dictionary"
   ]
  },
  {
   "cell_type": "code",
   "execution_count": 43,
   "id": "b5e1046c",
   "metadata": {},
   "outputs": [],
   "source": [
    "H4N_Inf = pd.read_csv('https://www3.nd.edu/~mcdonald/Data/Harvard%20IV_Negative%20Word%20List_Inf.txt', header=None, names=['H4N_Inf']).squeeze()"
   ]
  },
  {
   "cell_type": "code",
   "execution_count": 44,
   "id": "128a816a",
   "metadata": {},
   "outputs": [
    {
     "data": {
      "text/plain": [
       "0         ABANDON\n",
       "1       ABANDONED\n",
       "2      ABANDONING\n",
       "3     ABANDONMENT\n",
       "4    ABANDONMENTS\n",
       "Name: H4N_Inf, dtype: object"
      ]
     },
     "execution_count": 44,
     "metadata": {},
     "output_type": "execute_result"
    }
   ],
   "source": [
    "H4N_Inf.head()"
   ]
  },
  {
   "cell_type": "code",
   "execution_count": 45,
   "id": "3f45c775",
   "metadata": {},
   "outputs": [
    {
     "name": "stderr",
     "output_type": "stream",
     "text": [
      "/Users/luyinxin/miniconda3/lib/python3.9/site-packages/openpyxl/worksheet/_reader.py:312: UserWarning: Unknown extension is not supported and will be removed\n",
      "  warn(msg)\n"
     ]
    }
   ],
   "source": [
    "Fin_Neg = pd.read_excel('Word_lists_for_22When_Is_a.xlsx', sheet_name='ND_FinTerms_Negative_v2', names=['Fin_Neg']).squeeze()"
   ]
  },
  {
   "cell_type": "code",
   "execution_count": 47,
   "id": "434b8052",
   "metadata": {},
   "outputs": [
    {
     "data": {
      "text/plain": [
       "0       ABANDONED\n",
       "1      ABANDONING\n",
       "2     ABANDONMENT\n",
       "3    ABANDONMENTS\n",
       "4        ABANDONS\n",
       "Name: Fin_Neg, dtype: object"
      ]
     },
     "execution_count": 47,
     "metadata": {},
     "output_type": "execute_result"
    }
   ],
   "source": [
    "Fin_Neg.head()"
   ]
  },
  {
   "cell_type": "code",
   "execution_count": null,
   "id": "b26346e1",
   "metadata": {},
   "outputs": [],
   "source": []
  }
 ],
 "metadata": {
  "kernelspec": {
   "display_name": "Python 3 (ipykernel)",
   "language": "python",
   "name": "python3"
  },
  "language_info": {
   "codemirror_mode": {
    "name": "ipython",
    "version": 3
   },
   "file_extension": ".py",
   "mimetype": "text/x-python",
   "name": "python",
   "nbconvert_exporter": "python",
   "pygments_lexer": "ipython3",
   "version": "3.9.1"
  }
 },
 "nbformat": 4,
 "nbformat_minor": 5
}
