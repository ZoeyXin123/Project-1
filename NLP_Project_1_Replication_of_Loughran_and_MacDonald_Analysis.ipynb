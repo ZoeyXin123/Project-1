{
  "cells": [
    {
      "cell_type": "code",
      "execution_count": 1,
      "metadata": {
        "id": "pzPHkwwEw5dx"
      },
      "outputs": [],
      "source": [
        "import pandas as pd\n",
        "import numpy as np\n",
        "import matplotlib.pyplot as plt\n",
        "import json\n",
        "from bs4 import BeautifulSoup\n",
        "from nltk.stem import WordNetLemmatizer\n",
        "from nltk.corpus import wordnet\n",
        "from nltk.corpus import stopwords\n",
        "import re\n",
        "import nltk\n",
        "from tqdm import tqdm\n",
        "from collections import defaultdict, Counter\n",
        "from sklearn.feature_extraction.text import CountVectorizer"
      ]
    },
    {
      "cell_type": "code",
      "execution_count": 3,
      "metadata": {
        "colab": {
          "base_uri": "https://localhost:8080/"
        },
        "id": "U0-a21OxzRll",
        "outputId": "863fc034-8933-4c9b-93a6-f1fbc976aeba"
      },
      "outputs": [
        {
          "name": "stderr",
          "output_type": "stream",
          "text": [
            "[nltk_data] Downloading package wordnet to /root/nltk_data...\n",
            "[nltk_data] Error loading ombw-1.4: Package 'ombw-1.4' not found in\n",
            "[nltk_data]     index\n",
            "[nltk_data] Downloading package stopwords to /root/nltk_data...\n",
            "[nltk_data]   Unzipping corpora/stopwords.zip.\n",
            "[nltk_data] Downloading package omw-1.4 to /root/nltk_data...\n"
          ]
        },
        {
          "data": {
            "text/plain": [
              "True"
            ]
          },
          "execution_count": 3,
          "metadata": {},
          "output_type": "execute_result"
        }
      ],
      "source": [
        "nltk.download('wordnet')\n",
        "nltk.download('ombw-1.4')\n",
        "nltk.download('stopwords')\n",
        "nltk.download('omw-1.4')"
      ]
    },
    {
      "cell_type": "markdown",
      "metadata": {
        "id": "OUj1fUQyaZSL"
      },
      "source": [
        "## Data Preparation"
      ]
    },
    {
      "cell_type": "markdown",
      "metadata": {
        "id": "vYydq3K7ah-T"
      },
      "source": [
        "Stock returns from S&P 500 and market return are downloaded from WRDS. The date range is from 2016 to 2021. Value-Weighted Return with Distribution (VWRETD) is collected for market data to calcualte four-days' excess return.  "
      ]
    },
    {
      "cell_type": "code",
      "execution_count": 4,
      "metadata": {
        "colab": {
          "base_uri": "https://localhost:8080/",
          "height": 267
        },
        "id": "W_h19PTfEs-R",
        "outputId": "23823341-3c26-413e-f996-a9ef36403680"
      },
      "outputs": [
        {
          "data": {
            "text/html": [
              "\n",
              "  <div id=\"df-de53922c-e71a-4b2e-965d-6b1240a106da\">\n",
              "    <div class=\"colab-df-container\">\n",
              "      <div>\n",
              "<style scoped>\n",
              "    .dataframe tbody tr th:only-of-type {\n",
              "        vertical-align: middle;\n",
              "    }\n",
              "\n",
              "    .dataframe tbody tr th {\n",
              "        vertical-align: top;\n",
              "    }\n",
              "\n",
              "    .dataframe thead th {\n",
              "        text-align: right;\n",
              "    }\n",
              "</style>\n",
              "<table border=\"1\" class=\"dataframe\">\n",
              "  <thead>\n",
              "    <tr style=\"text-align: right;\">\n",
              "      <th>PERMNO</th>\n",
              "      <th>10104</th>\n",
              "      <th>10107</th>\n",
              "      <th>10138</th>\n",
              "      <th>10145</th>\n",
              "      <th>10147</th>\n",
              "      <th>10299</th>\n",
              "      <th>10516</th>\n",
              "      <th>10696</th>\n",
              "      <th>10909</th>\n",
              "      <th>11308</th>\n",
              "      <th>...</th>\n",
              "      <th>92890</th>\n",
              "      <th>93002</th>\n",
              "      <th>93089</th>\n",
              "      <th>93096</th>\n",
              "      <th>93132</th>\n",
              "      <th>93159</th>\n",
              "      <th>93246</th>\n",
              "      <th>93422</th>\n",
              "      <th>93429</th>\n",
              "      <th>93436</th>\n",
              "    </tr>\n",
              "    <tr>\n",
              "      <th>date</th>\n",
              "      <th></th>\n",
              "      <th></th>\n",
              "      <th></th>\n",
              "      <th></th>\n",
              "      <th></th>\n",
              "      <th></th>\n",
              "      <th></th>\n",
              "      <th></th>\n",
              "      <th></th>\n",
              "      <th></th>\n",
              "      <th></th>\n",
              "      <th></th>\n",
              "      <th></th>\n",
              "      <th></th>\n",
              "      <th></th>\n",
              "      <th></th>\n",
              "      <th></th>\n",
              "      <th></th>\n",
              "      <th></th>\n",
              "      <th></th>\n",
              "      <th></th>\n",
              "    </tr>\n",
              "  </thead>\n",
              "  <tbody>\n",
              "    <tr>\n",
              "      <th>20160104</th>\n",
              "      <td>0.007542</td>\n",
              "      <td>-0.011331</td>\n",
              "      <td>-0.013636</td>\n",
              "      <td>0.006428</td>\n",
              "      <td>0.016009</td>\n",
              "      <td>-0.028900</td>\n",
              "      <td>-0.010558</td>\n",
              "      <td>0.012796</td>\n",
              "      <td>0.006783</td>\n",
              "      <td>0.017139</td>\n",
              "      <td>...</td>\n",
              "      <td>0.006405</td>\n",
              "      <td>-0.062589</td>\n",
              "      <td>-0.001617</td>\n",
              "      <td>0.047913</td>\n",
              "      <td>-0.015833</td>\n",
              "      <td>-0.106315</td>\n",
              "      <td>-0.010117</td>\n",
              "      <td>-0.059878</td>\n",
              "      <td>0.016897</td>\n",
              "      <td>-0.053166</td>\n",
              "    </tr>\n",
              "    <tr>\n",
              "      <th>20160105</th>\n",
              "      <td>0.013414</td>\n",
              "      <td>-0.000890</td>\n",
              "      <td>-0.024630</td>\n",
              "      <td>0.003821</td>\n",
              "      <td>0.000415</td>\n",
              "      <td>-0.034369</td>\n",
              "      <td>0.003725</td>\n",
              "      <td>0.022172</td>\n",
              "      <td>0.054156</td>\n",
              "      <td>0.023193</td>\n",
              "      <td>...</td>\n",
              "      <td>-0.020923</td>\n",
              "      <td>-0.054777</td>\n",
              "      <td>0.018552</td>\n",
              "      <td>0.031063</td>\n",
              "      <td>-0.009406</td>\n",
              "      <td>-0.150908</td>\n",
              "      <td>0.012707</td>\n",
              "      <td>-0.091030</td>\n",
              "      <td>0.021679</td>\n",
              "      <td>-0.011366</td>\n",
              "    </tr>\n",
              "    <tr>\n",
              "      <th>20160106</th>\n",
              "      <td>0.025566</td>\n",
              "      <td>-0.004747</td>\n",
              "      <td>-0.032403</td>\n",
              "      <td>-0.003047</td>\n",
              "      <td>0.002479</td>\n",
              "      <td>-0.023017</td>\n",
              "      <td>-0.012189</td>\n",
              "      <td>0.023296</td>\n",
              "      <td>0.031089</td>\n",
              "      <td>0.022410</td>\n",
              "      <td>...</td>\n",
              "      <td>-0.045057</td>\n",
              "      <td>-0.023728</td>\n",
              "      <td>0.032013</td>\n",
              "      <td>0.001407</td>\n",
              "      <td>-0.004726</td>\n",
              "      <td>-0.164329</td>\n",
              "      <td>0.059174</td>\n",
              "      <td>-0.114181</td>\n",
              "      <td>0.047583</td>\n",
              "      <td>-0.024524</td>\n",
              "    </tr>\n",
              "    <tr>\n",
              "      <th>20160107</th>\n",
              "      <td>0.013017</td>\n",
              "      <td>0.002084</td>\n",
              "      <td>-0.006204</td>\n",
              "      <td>-0.004447</td>\n",
              "      <td>0.002213</td>\n",
              "      <td>-0.000067</td>\n",
              "      <td>-0.005246</td>\n",
              "      <td>0.026477</td>\n",
              "      <td>0.052307</td>\n",
              "      <td>0.020854</td>\n",
              "      <td>...</td>\n",
              "      <td>-0.062549</td>\n",
              "      <td>0.000297</td>\n",
              "      <td>0.024107</td>\n",
              "      <td>-0.001651</td>\n",
              "      <td>-0.000521</td>\n",
              "      <td>-0.134420</td>\n",
              "      <td>0.082264</td>\n",
              "      <td>-0.064020</td>\n",
              "      <td>0.044792</td>\n",
              "      <td>-0.015828</td>\n",
              "    </tr>\n",
              "    <tr>\n",
              "      <th>20160108</th>\n",
              "      <td>-0.000204</td>\n",
              "      <td>0.017035</td>\n",
              "      <td>-0.005463</td>\n",
              "      <td>0.005728</td>\n",
              "      <td>0.000635</td>\n",
              "      <td>0.019540</td>\n",
              "      <td>-0.003224</td>\n",
              "      <td>0.011550</td>\n",
              "      <td>0.038638</td>\n",
              "      <td>0.032720</td>\n",
              "      <td>...</td>\n",
              "      <td>-0.059400</td>\n",
              "      <td>-0.017285</td>\n",
              "      <td>0.011449</td>\n",
              "      <td>-0.019576</td>\n",
              "      <td>0.000454</td>\n",
              "      <td>-0.156512</td>\n",
              "      <td>0.052525</td>\n",
              "      <td>-0.063183</td>\n",
              "      <td>0.024807</td>\n",
              "      <td>-0.043941</td>\n",
              "    </tr>\n",
              "  </tbody>\n",
              "</table>\n",
              "<p>5 rows × 674 columns</p>\n",
              "</div>\n",
              "      <button class=\"colab-df-convert\" onclick=\"convertToInteractive('df-de53922c-e71a-4b2e-965d-6b1240a106da')\"\n",
              "              title=\"Convert this dataframe to an interactive table.\"\n",
              "              style=\"display:none;\">\n",
              "        \n",
              "  <svg xmlns=\"http://www.w3.org/2000/svg\" height=\"24px\"viewBox=\"0 0 24 24\"\n",
              "       width=\"24px\">\n",
              "    <path d=\"M0 0h24v24H0V0z\" fill=\"none\"/>\n",
              "    <path d=\"M18.56 5.44l.94 2.06.94-2.06 2.06-.94-2.06-.94-.94-2.06-.94 2.06-2.06.94zm-11 1L8.5 8.5l.94-2.06 2.06-.94-2.06-.94L8.5 2.5l-.94 2.06-2.06.94zm10 10l.94 2.06.94-2.06 2.06-.94-2.06-.94-.94-2.06-.94 2.06-2.06.94z\"/><path d=\"M17.41 7.96l-1.37-1.37c-.4-.4-.92-.59-1.43-.59-.52 0-1.04.2-1.43.59L10.3 9.45l-7.72 7.72c-.78.78-.78 2.05 0 2.83L4 21.41c.39.39.9.59 1.41.59.51 0 1.02-.2 1.41-.59l7.78-7.78 2.81-2.81c.8-.78.8-2.07 0-2.86zM5.41 20L4 18.59l7.72-7.72 1.47 1.35L5.41 20z\"/>\n",
              "  </svg>\n",
              "      </button>\n",
              "      \n",
              "  <style>\n",
              "    .colab-df-container {\n",
              "      display:flex;\n",
              "      flex-wrap:wrap;\n",
              "      gap: 12px;\n",
              "    }\n",
              "\n",
              "    .colab-df-convert {\n",
              "      background-color: #E8F0FE;\n",
              "      border: none;\n",
              "      border-radius: 50%;\n",
              "      cursor: pointer;\n",
              "      display: none;\n",
              "      fill: #1967D2;\n",
              "      height: 32px;\n",
              "      padding: 0 0 0 0;\n",
              "      width: 32px;\n",
              "    }\n",
              "\n",
              "    .colab-df-convert:hover {\n",
              "      background-color: #E2EBFA;\n",
              "      box-shadow: 0px 1px 2px rgba(60, 64, 67, 0.3), 0px 1px 3px 1px rgba(60, 64, 67, 0.15);\n",
              "      fill: #174EA6;\n",
              "    }\n",
              "\n",
              "    [theme=dark] .colab-df-convert {\n",
              "      background-color: #3B4455;\n",
              "      fill: #D2E3FC;\n",
              "    }\n",
              "\n",
              "    [theme=dark] .colab-df-convert:hover {\n",
              "      background-color: #434B5C;\n",
              "      box-shadow: 0px 1px 3px 1px rgba(0, 0, 0, 0.15);\n",
              "      filter: drop-shadow(0px 1px 2px rgba(0, 0, 0, 0.3));\n",
              "      fill: #FFFFFF;\n",
              "    }\n",
              "  </style>\n",
              "\n",
              "      <script>\n",
              "        const buttonEl =\n",
              "          document.querySelector('#df-de53922c-e71a-4b2e-965d-6b1240a106da button.colab-df-convert');\n",
              "        buttonEl.style.display =\n",
              "          google.colab.kernel.accessAllowed ? 'block' : 'none';\n",
              "\n",
              "        async function convertToInteractive(key) {\n",
              "          const element = document.querySelector('#df-de53922c-e71a-4b2e-965d-6b1240a106da');\n",
              "          const dataTable =\n",
              "            await google.colab.kernel.invokeFunction('convertToInteractive',\n",
              "                                                     [key], {});\n",
              "          if (!dataTable) return;\n",
              "\n",
              "          const docLinkHtml = 'Like what you see? Visit the ' +\n",
              "            '<a target=\"_blank\" href=https://colab.research.google.com/notebooks/data_table.ipynb>data table notebook</a>'\n",
              "            + ' to learn more about interactive tables.';\n",
              "          element.innerHTML = '';\n",
              "          dataTable['output_type'] = 'display_data';\n",
              "          await google.colab.output.renderOutput(dataTable, element);\n",
              "          const docLink = document.createElement('div');\n",
              "          docLink.innerHTML = docLinkHtml;\n",
              "          element.appendChild(docLink);\n",
              "        }\n",
              "      </script>\n",
              "    </div>\n",
              "  </div>\n",
              "  "
            ],
            "text/plain": [
              "PERMNO       10104     10107     10138     10145     10147     10299  \\\n",
              "date                                                                   \n",
              "20160104  0.007542 -0.011331 -0.013636  0.006428  0.016009 -0.028900   \n",
              "20160105  0.013414 -0.000890 -0.024630  0.003821  0.000415 -0.034369   \n",
              "20160106  0.025566 -0.004747 -0.032403 -0.003047  0.002479 -0.023017   \n",
              "20160107  0.013017  0.002084 -0.006204 -0.004447  0.002213 -0.000067   \n",
              "20160108 -0.000204  0.017035 -0.005463  0.005728  0.000635  0.019540   \n",
              "\n",
              "PERMNO       10516     10696     10909     11308  ...     92890     93002  \\\n",
              "date                                              ...                       \n",
              "20160104 -0.010558  0.012796  0.006783  0.017139  ...  0.006405 -0.062589   \n",
              "20160105  0.003725  0.022172  0.054156  0.023193  ... -0.020923 -0.054777   \n",
              "20160106 -0.012189  0.023296  0.031089  0.022410  ... -0.045057 -0.023728   \n",
              "20160107 -0.005246  0.026477  0.052307  0.020854  ... -0.062549  0.000297   \n",
              "20160108 -0.003224  0.011550  0.038638  0.032720  ... -0.059400 -0.017285   \n",
              "\n",
              "PERMNO       93089     93096     93132     93159     93246     93422  \\\n",
              "date                                                                   \n",
              "20160104 -0.001617  0.047913 -0.015833 -0.106315 -0.010117 -0.059878   \n",
              "20160105  0.018552  0.031063 -0.009406 -0.150908  0.012707 -0.091030   \n",
              "20160106  0.032013  0.001407 -0.004726 -0.164329  0.059174 -0.114181   \n",
              "20160107  0.024107 -0.001651 -0.000521 -0.134420  0.082264 -0.064020   \n",
              "20160108  0.011449 -0.019576  0.000454 -0.156512  0.052525 -0.063183   \n",
              "\n",
              "PERMNO       93429     93436  \n",
              "date                          \n",
              "20160104  0.016897 -0.053166  \n",
              "20160105  0.021679 -0.011366  \n",
              "20160106  0.047583 -0.024524  \n",
              "20160107  0.044792 -0.015828  \n",
              "20160108  0.024807 -0.043941  \n",
              "\n",
              "[5 rows x 674 columns]"
            ]
          },
          "execution_count": 4,
          "metadata": {},
          "output_type": "execute_result"
        }
      ],
      "source": [
        "# Read data downloaded from WRDS\n",
        "market_return = pd.read_csv('market_return.csv')\n",
        "stock_returns = pd.read_csv('return_with_PERMNO.csv')\n",
        "\n",
        "# Calculate 4-days' excess return\n",
        "pv = pd.pivot(stock_returns[['date', 'PERMNO', 'RETX']], index='date', columns='PERMNO')['RETX']\n",
        "four_day_return = (pv+1)*(pv.shift(-1)+1)*(pv.shift(-2)+1)*(pv.shift(-3)+1)-1\n",
        "market_return.set_index('caldt', inplace=True)\n",
        "four_day_market_return = (market_return+1)*(market_return.shift(-1)+1)*(market_return.shift(-2)+1)*(market_return.shift(-3)+1)-1\n",
        "excess_return = four_day_return.sub(four_day_market_return['vwretd'], axis='index')\n",
        "excess_return.index = excess_return.index.astype('str')\n",
        "excess_return.columns = excess_return.columns.astype('int')\n",
        "excess_return.index = pd.to_datetime(excess_return.index)\n",
        "excess_return = excess_return.resample('D').mean().fillna(method='bfill')\n",
        "excess_return.index = excess_return.index.strftime('%Y%m%d')\n",
        "excess_return.head()"
      ]
    },
    {
      "cell_type": "markdown",
      "metadata": {
        "id": "TdDKdhbDcui6"
      },
      "source": [
        "As stock returns are downloaded using PERMNO, while 10-Ks and 10-Qs are extracted based on CIK. The lookup table is created to map one from the other. "
      ]
    },
    {
      "cell_type": "code",
      "execution_count": 5,
      "metadata": {
        "colab": {
          "base_uri": "https://localhost:8080/"
        },
        "id": "k93NGGHFFafX",
        "outputId": "1b4fac30-a33e-4202-f0dd-0928eaec4e00"
      },
      "outputs": [
        {
          "data": {
            "text/plain": [
              "cik\n",
              "814453    60986\n",
              "764478    85914\n",
              "922864    80711\n",
              "4962      59176\n",
              "98246     75100\n",
              "Name: permno, dtype: int64"
            ]
          },
          "execution_count": 5,
          "metadata": {},
          "output_type": "execute_result"
        }
      ],
      "source": [
        "# Read stock information to map CIK to PERMNO\n",
        "PERMNO_CIK_lookup_t = pd.read_csv('sp500_w_addl_id_with_cik.csv', usecols=['cik', 'permno']).drop_duplicates()\n",
        "PERMNO_CIK_lookup_t = PERMNO_CIK_lookup_t.dropna().astype('int').set_index('cik').squeeze()\n",
        "PERMNO_CIK_lookup_t = PERMNO_CIK_lookup_t.astype(int)\n",
        "PERMNO_CIK_lookup_t.head()"
      ]
    },
    {
      "cell_type": "markdown",
      "metadata": {
        "id": "coqqH71B1H0d"
      },
      "source": [
        "## 10-Ks and 10-Qs Data Preprocessing"
      ]
    },
    {
      "cell_type": "markdown",
      "metadata": {
        "id": "cA0DrPhfdfbb"
      },
      "source": [
        "We write steps to process 10-Ks and 10-Qs as follows. Noticed that due to the limitation in local storage and I-O timing, we devided to call those functions immediately after downloading html document. Therefore, only lemmatized version of word lists is saved for later calculation instead of the raw file. \n",
        "\n",
        "The script used to download 10-Ks and 10-Qs is attached, which called lemmatization process accordingly. \n",
        "\n",
        "Here we only show a demo example to explain the process."
      ]
    },
    {
      "cell_type": "code",
      "execution_count": 6,
      "metadata": {
        "id": "_d9Qar5NvCZK"
      },
      "outputs": [],
      "source": [
        "def remove_html_tags(text):\n",
        "    bs = BeautifulSoup(text, 'html.parser')\n",
        "    # Remove all images and table\n",
        "    for tag in [\"table\", \"img\", \"IMS-HEADER\", \"SEC-HEADER\"]:\n",
        "      for ele in bs.find_all(tag):\n",
        "        ele.extract()\n",
        "    text = bs.get_text()\n",
        "    return text\n",
        "    \n",
        "def clean_text(text):\n",
        "    # Convert to lower case\n",
        "    text = text.lower().strip()\n",
        "    # Remove HTML tags\n",
        "    text = remove_html_tags(text)\n",
        "    return text\n",
        "\n",
        "# Lemmatize words\n",
        "def lemmatize_words(words):\n",
        "    lemmatized_words = [WordNetLemmatizer().lemmatize(word, 'v') for word in words]\n",
        "    return lemmatized_words"
      ]
    },
    {
      "cell_type": "code",
      "execution_count": 8,
      "metadata": {
        "id": "lo3rOdvfPo3k"
      },
      "outputs": [],
      "source": [
        "# Lemmatize all raw files and save lemmatized version in drive:\n",
        "def lemmatize_10K(id):\n",
        "  # Read raw data in batch\n",
        "  # Noticed that we stored raw file of 10-Ks and 10-Qs in batch due to storage limitation\n",
        "  with open(('./10-Ks/statements'+str(id)+'.json'), 'r', encoding='utf-8') as f:\n",
        "    ten_ks_by_ticker = [item for d in f.read().splitlines() for item in json.loads(d)]\n",
        "\n",
        "  # Remove html tags\n",
        "  for ten_k in tqdm(ten_ks_by_ticker):\n",
        "    try:\n",
        "      ten_k['file_clean'] = clean_text(ten_k['file'])\n",
        "    except:\n",
        "      print(\"File with id:\", id, \"cannot be cleaned!\")\n",
        "\n",
        "  # Lemmatize words and remove stopwords\n",
        "  word_pattern = re.compile('\\w+')\n",
        "  lemma_english_stopwords = lemmatize_words(stopwords.words('english'))\n",
        "  for ten_k in tqdm(ten_ks_by_ticker):\n",
        "    try:\n",
        "      ten_k['file_lemma'] = lemmatize_words(word_pattern.findall(ten_k['file_clean']))\n",
        "      ten_k['file_lemma'] = [word for word in ten_k['file_lemma'] if word not in lemma_english_stopwords]\n",
        "      print('File with date:', ten_k['file_date'], 'and CIK:', ten_k['cik'], 'has lemmatized word list of length:', len(ten_k['file_lemma']))\n",
        "    except KeyError:\n",
        "      print('Key error!')\n",
        "\n",
        "  # Save lemmatized file for future process\n",
        "  lemmatized_files = [{k: ten_ks[k] for k in ('cik', 'file_date', 'file_lemma')} for ten_ks in ten_ks_by_ticker if 'file_lemma' in ten_ks]\n",
        "  file_name = './10-Ks/'+'lemmatized_files_'+str(id)+'.json'\n",
        "  with open(file_name, \"w\") as outfile:\n",
        "    json.dump(lemmatized_files, outfile)"
      ]
    },
    {
      "cell_type": "code",
      "execution_count": 9,
      "metadata": {
        "colab": {
          "base_uri": "https://localhost:8080/"
        },
        "id": "4EmpimLWfpOk",
        "outputId": "082b4089-bc6e-4125-e9da-449505661e94"
      },
      "outputs": [
        {
          "name": "stderr",
          "output_type": "stream",
          "text": [
            " 82%|████████▏ | 184/224 [17:01<03:14,  4.87s/it]/usr/local/lib/python3.7/dist-packages/bs4/builder/_htmlparser.py:78: UserWarning: unknown status keyword 'q7p' in marked section\n",
            "  warnings.warn(msg)\n",
            " 83%|████████▎ | 185/224 [17:11<04:03,  6.24s/it]"
          ]
        },
        {
          "name": "stdout",
          "output_type": "stream",
          "text": [
            "File with id: 0 cannot be cleaned!\n"
          ]
        },
        {
          "name": "stderr",
          "output_type": "stream",
          "text": [
            " 84%|████████▍ | 188/224 [18:03<08:23, 13.98s/it]/usr/local/lib/python3.7/dist-packages/bs4/builder/_htmlparser.py:78: UserWarning: unknown status keyword 'a' in marked section\n",
            "  warnings.warn(msg)\n",
            " 84%|████████▍ | 189/224 [18:06<06:06, 10.46s/it]"
          ]
        },
        {
          "name": "stdout",
          "output_type": "stream",
          "text": [
            "File with id: 0 cannot be cleaned!\n"
          ]
        },
        {
          "name": "stderr",
          "output_type": "stream",
          "text": [
            " 85%|████████▌ | 191/224 [18:38<06:39, 12.12s/it]"
          ]
        },
        {
          "name": "stdout",
          "output_type": "stream",
          "text": [
            "File with id: 0 cannot be cleaned!\n"
          ]
        },
        {
          "name": "stderr",
          "output_type": "stream",
          "text": [
            " 86%|████████▌ | 193/224 [19:12<06:48, 13.17s/it]"
          ]
        },
        {
          "name": "stdout",
          "output_type": "stream",
          "text": [
            "File with id: 0 cannot be cleaned!\n"
          ]
        },
        {
          "name": "stderr",
          "output_type": "stream",
          "text": [
            "100%|██████████| 224/224 [26:26<00:00,  7.08s/it]\n",
            "  0%|          | 1/224 [00:00<01:38,  2.26it/s]"
          ]
        },
        {
          "name": "stdout",
          "output_type": "stream",
          "text": [
            "File with date: 2020-03-02 and CIK: 0000814453 has lemmatized word list of length: 41736\n"
          ]
        },
        {
          "name": "stderr",
          "output_type": "stream",
          "text": [
            "\r  1%|          | 2/224 [00:00<01:29,  2.47it/s]"
          ]
        },
        {
          "name": "stdout",
          "output_type": "stream",
          "text": [
            "File with date: 2019-03-04 and CIK: 0000814453 has lemmatized word list of length: 28782\n"
          ]
        },
        {
          "name": "stderr",
          "output_type": "stream",
          "text": [
            "\r  1%|▏         | 3/224 [00:01<01:25,  2.59it/s]"
          ]
        },
        {
          "name": "stdout",
          "output_type": "stream",
          "text": [
            "File with date: 2018-03-01 and CIK: 0000814453 has lemmatized word list of length: 28995\n"
          ]
        },
        {
          "name": "stderr",
          "output_type": "stream",
          "text": [
            "\r  2%|▏         | 4/224 [00:01<01:29,  2.45it/s]"
          ]
        },
        {
          "name": "stdout",
          "output_type": "stream",
          "text": [
            "File with date: 2017-03-01 and CIK: 0000814453 has lemmatized word list of length: 37390\n"
          ]
        },
        {
          "name": "stderr",
          "output_type": "stream",
          "text": [
            "\r  2%|▏         | 5/224 [00:02<01:36,  2.27it/s]"
          ]
        },
        {
          "name": "stdout",
          "output_type": "stream",
          "text": [
            "File with date: 2016-02-29 and CIK: 0000814453 has lemmatized word list of length: 40439\n"
          ]
        },
        {
          "name": "stderr",
          "output_type": "stream",
          "text": [
            "\r  3%|▎         | 6/224 [00:02<01:34,  2.32it/s]"
          ]
        },
        {
          "name": "stdout",
          "output_type": "stream",
          "text": [
            "File with date: 2015-03-02 and CIK: 0000814453 has lemmatized word list of length: 33768\n"
          ]
        },
        {
          "name": "stderr",
          "output_type": "stream",
          "text": [
            "\r  3%|▎         | 7/224 [00:02<01:26,  2.50it/s]"
          ]
        },
        {
          "name": "stdout",
          "output_type": "stream",
          "text": [
            "File with date: 2020-03-23 and CIK: 0000764478 has lemmatized word list of length: 25423\n"
          ]
        },
        {
          "name": "stderr",
          "output_type": "stream",
          "text": [
            "\r  4%|▎         | 8/224 [00:03<01:20,  2.69it/s]"
          ]
        },
        {
          "name": "stdout",
          "output_type": "stream",
          "text": [
            "File with date: 2019-03-28 and CIK: 0000764478 has lemmatized word list of length: 24562\n"
          ]
        },
        {
          "name": "stderr",
          "output_type": "stream",
          "text": [
            "\r  4%|▍         | 9/224 [00:03<01:15,  2.86it/s]"
          ]
        },
        {
          "name": "stdout",
          "output_type": "stream",
          "text": [
            "File with date: 2018-04-02 and CIK: 0000764478 has lemmatized word list of length: 24021\n"
          ]
        },
        {
          "name": "stderr",
          "output_type": "stream",
          "text": [
            "\r  4%|▍         | 10/224 [00:03<01:10,  3.01it/s]"
          ]
        },
        {
          "name": "stdout",
          "output_type": "stream",
          "text": [
            "File with date: 2017-03-24 and CIK: 0000764478 has lemmatized word list of length: 23244\n"
          ]
        },
        {
          "name": "stderr",
          "output_type": "stream",
          "text": [
            "\r  5%|▍         | 11/224 [00:04<01:10,  3.04it/s]"
          ]
        },
        {
          "name": "stdout",
          "output_type": "stream",
          "text": [
            "File with date: 2016-03-23 and CIK: 0000764478 has lemmatized word list of length: 24379\n"
          ]
        },
        {
          "name": "stderr",
          "output_type": "stream",
          "text": [
            "\r  5%|▌         | 12/224 [00:04<01:09,  3.07it/s]"
          ]
        },
        {
          "name": "stdout",
          "output_type": "stream",
          "text": [
            "File with date: 2015-03-31 and CIK: 0000764478 has lemmatized word list of length: 25953\n"
          ]
        },
        {
          "name": "stderr",
          "output_type": "stream",
          "text": [
            "\r  6%|▌         | 13/224 [00:04<01:09,  3.04it/s]"
          ]
        },
        {
          "name": "stdout",
          "output_type": "stream",
          "text": [
            "File with date: 2020-02-24 and CIK: 0000922864 has lemmatized word list of length: 31157\n"
          ]
        },
        {
          "name": "stderr",
          "output_type": "stream",
          "text": [
            "\r  6%|▋         | 14/224 [00:05<01:07,  3.12it/s]"
          ]
        },
        {
          "name": "stdout",
          "output_type": "stream",
          "text": [
            "File with date: 2019-02-20 and CIK: 0000922864 has lemmatized word list of length: 25293\n"
          ]
        },
        {
          "name": "stderr",
          "output_type": "stream",
          "text": [
            "\r  7%|▋         | 15/224 [00:05<01:04,  3.24it/s]"
          ]
        },
        {
          "name": "stdout",
          "output_type": "stream",
          "text": [
            "File with date: 2018-03-01 and CIK: 0000922864 has lemmatized word list of length: 25645\n"
          ]
        },
        {
          "name": "stderr",
          "output_type": "stream",
          "text": [
            "\r  7%|▋         | 16/224 [00:05<01:04,  3.23it/s]"
          ]
        },
        {
          "name": "stdout",
          "output_type": "stream",
          "text": [
            "File with date: 2017-02-24 and CIK: 0000922864 has lemmatized word list of length: 25539\n"
          ]
        },
        {
          "name": "stderr",
          "output_type": "stream",
          "text": [
            "\r  8%|▊         | 17/224 [00:05<01:03,  3.28it/s]"
          ]
        },
        {
          "name": "stdout",
          "output_type": "stream",
          "text": [
            "File with date: 2016-02-29 and CIK: 0000922864 has lemmatized word list of length: 26298\n"
          ]
        },
        {
          "name": "stderr",
          "output_type": "stream",
          "text": [
            "\r  8%|▊         | 18/224 [00:06<01:02,  3.28it/s]"
          ]
        },
        {
          "name": "stdout",
          "output_type": "stream",
          "text": [
            "File with date: 2015-02-27 and CIK: 0000922864 has lemmatized word list of length: 26492\n"
          ]
        },
        {
          "name": "stderr",
          "output_type": "stream",
          "text": [
            "\r  8%|▊         | 19/224 [00:06<01:14,  2.76it/s]"
          ]
        },
        {
          "name": "stdout",
          "output_type": "stream",
          "text": [
            "File with date: 2020-02-13 and CIK: 0000004962 has lemmatized word list of length: 45473\n"
          ]
        },
        {
          "name": "stderr",
          "output_type": "stream",
          "text": [
            "\r  9%|▉         | 20/224 [00:07<01:18,  2.59it/s]"
          ]
        },
        {
          "name": "stdout",
          "output_type": "stream",
          "text": [
            "File with date: 2019-02-13 and CIK: 0000004962 has lemmatized word list of length: 38737\n"
          ]
        },
        {
          "name": "stderr",
          "output_type": "stream",
          "text": [
            "\r  9%|▉         | 21/224 [00:07<01:23,  2.43it/s]"
          ]
        },
        {
          "name": "stdout",
          "output_type": "stream",
          "text": [
            "File with date: 2018-02-16 and CIK: 0000004962 has lemmatized word list of length: 40693\n"
          ]
        },
        {
          "name": "stderr",
          "output_type": "stream",
          "text": [
            "\r 10%|▉         | 22/224 [00:08<01:27,  2.30it/s]"
          ]
        },
        {
          "name": "stdout",
          "output_type": "stream",
          "text": [
            "File with date: 2017-02-17 and CIK: 0000004962 has lemmatized word list of length: 39857\n"
          ]
        },
        {
          "name": "stderr",
          "output_type": "stream",
          "text": [
            "\r 10%|█         | 23/224 [00:08<01:35,  2.11it/s]"
          ]
        },
        {
          "name": "stdout",
          "output_type": "stream",
          "text": [
            "File with date: 2016-02-19 and CIK: 0000004962 has lemmatized word list of length: 48483\n"
          ]
        },
        {
          "name": "stderr",
          "output_type": "stream",
          "text": [
            "\r 11%|█         | 24/224 [00:09<01:30,  2.21it/s]"
          ]
        },
        {
          "name": "stdout",
          "output_type": "stream",
          "text": [
            "File with date: 2015-02-24 and CIK: 0000004962 has lemmatized word list of length: 33459\n"
          ]
        },
        {
          "name": "stderr",
          "output_type": "stream",
          "text": [
            "\r 11%|█         | 25/224 [00:09<01:24,  2.35it/s]"
          ]
        },
        {
          "name": "stdout",
          "output_type": "stream",
          "text": [
            "File with date: 2020-03-20 and CIK: 0000098246 has lemmatized word list of length: 32942\n"
          ]
        },
        {
          "name": "stderr",
          "output_type": "stream",
          "text": [
            "\r 12%|█▏        | 26/224 [00:10<01:32,  2.14it/s]"
          ]
        },
        {
          "name": "stdout",
          "output_type": "stream",
          "text": [
            "File with date: 2019-03-22 and CIK: 0000098246 has lemmatized word list of length: 27082\n"
          ]
        },
        {
          "name": "stderr",
          "output_type": "stream",
          "text": [
            "\r 12%|█▏        | 27/224 [00:10<01:40,  1.97it/s]"
          ]
        },
        {
          "name": "stdout",
          "output_type": "stream",
          "text": [
            "File with date: 2018-03-16 and CIK: 0000098246 has lemmatized word list of length: 28021\n"
          ]
        },
        {
          "name": "stderr",
          "output_type": "stream",
          "text": [
            "\r 12%|█▎        | 28/224 [00:10<01:29,  2.19it/s]"
          ]
        },
        {
          "name": "stdout",
          "output_type": "stream",
          "text": [
            "File with date: 2017-03-17 and CIK: 0000098246 has lemmatized word list of length: 27988\n"
          ]
        },
        {
          "name": "stderr",
          "output_type": "stream",
          "text": [
            "\r 13%|█▎        | 29/224 [00:11<01:38,  1.97it/s]"
          ]
        },
        {
          "name": "stdout",
          "output_type": "stream",
          "text": [
            "File with date: 2016-03-28 and CIK: 0000098246 has lemmatized word list of length: 26167\n"
          ]
        },
        {
          "name": "stderr",
          "output_type": "stream",
          "text": [
            "\r 13%|█▎        | 30/224 [00:11<01:29,  2.17it/s]"
          ]
        },
        {
          "name": "stdout",
          "output_type": "stream",
          "text": [
            "File with date: 2015-03-20 and CIK: 0000098246 has lemmatized word list of length: 23511\n"
          ]
        },
        {
          "name": "stderr",
          "output_type": "stream",
          "text": [
            "\r 14%|█▍        | 31/224 [00:12<01:45,  1.83it/s]"
          ]
        },
        {
          "name": "stdout",
          "output_type": "stream",
          "text": [
            "File with date: 2020-08-18 and CIK: 0000730464 has lemmatized word list of length: 42564\n"
          ]
        },
        {
          "name": "stderr",
          "output_type": "stream",
          "text": [
            "\r 14%|█▍        | 32/224 [00:13<01:40,  1.90it/s]"
          ]
        },
        {
          "name": "stdout",
          "output_type": "stream",
          "text": [
            "File with date: 2019-08-28 and CIK: 0000730464 has lemmatized word list of length: 39360\n"
          ]
        },
        {
          "name": "stderr",
          "output_type": "stream",
          "text": [
            "\r 15%|█▍        | 33/224 [00:13<01:42,  1.87it/s]"
          ]
        },
        {
          "name": "stdout",
          "output_type": "stream",
          "text": [
            "File with date: 2018-08-24 and CIK: 0000730464 has lemmatized word list of length: 44969\n"
          ]
        },
        {
          "name": "stderr",
          "output_type": "stream",
          "text": [
            "\r 15%|█▌        | 34/224 [00:14<01:47,  1.77it/s]"
          ]
        },
        {
          "name": "stdout",
          "output_type": "stream",
          "text": [
            "File with date: 2017-08-24 and CIK: 0000730464 has lemmatized word list of length: 44772\n"
          ]
        },
        {
          "name": "stderr",
          "output_type": "stream",
          "text": [
            "\r 16%|█▌        | 35/224 [00:15<02:04,  1.52it/s]"
          ]
        },
        {
          "name": "stdout",
          "output_type": "stream",
          "text": [
            "File with date: 2016-08-25 and CIK: 0000730464 has lemmatized word list of length: 47548\n"
          ]
        },
        {
          "name": "stderr",
          "output_type": "stream",
          "text": [
            "\r 16%|█▌        | 36/224 [00:16<02:21,  1.33it/s]"
          ]
        },
        {
          "name": "stdout",
          "output_type": "stream",
          "text": [
            "File with date: 2015-08-27 and CIK: 0000730464 has lemmatized word list of length: 44285\n"
          ]
        },
        {
          "name": "stderr",
          "output_type": "stream",
          "text": [
            "\r 17%|█▋        | 37/224 [00:17<02:37,  1.19it/s]"
          ]
        },
        {
          "name": "stdout",
          "output_type": "stream",
          "text": [
            "File with date: 2020-03-31 and CIK: 0001018840 has lemmatized word list of length: 24016\n"
          ]
        },
        {
          "name": "stderr",
          "output_type": "stream",
          "text": [
            "\r 17%|█▋        | 38/224 [00:17<02:14,  1.38it/s]"
          ]
        },
        {
          "name": "stdout",
          "output_type": "stream",
          "text": [
            "File with date: 2019-04-01 and CIK: 0001018840 has lemmatized word list of length: 20446\n"
          ]
        },
        {
          "name": "stderr",
          "output_type": "stream",
          "text": [
            "\r 17%|█▋        | 39/224 [00:18<01:59,  1.54it/s]"
          ]
        },
        {
          "name": "stdout",
          "output_type": "stream",
          "text": [
            "File with date: 2018-04-02 and CIK: 0001018840 has lemmatized word list of length: 19818\n"
          ]
        },
        {
          "name": "stderr",
          "output_type": "stream",
          "text": [
            "\r 18%|█▊        | 40/224 [00:18<01:49,  1.68it/s]"
          ]
        },
        {
          "name": "stdout",
          "output_type": "stream",
          "text": [
            "File with date: 2017-03-27 and CIK: 0001018840 has lemmatized word list of length: 19378\n"
          ]
        },
        {
          "name": "stderr",
          "output_type": "stream",
          "text": [
            "\r 18%|█▊        | 41/224 [00:18<01:33,  1.96it/s]"
          ]
        },
        {
          "name": "stdout",
          "output_type": "stream",
          "text": [
            "File with date: 2016-03-28 and CIK: 0001018840 has lemmatized word list of length: 19048\n"
          ]
        },
        {
          "name": "stderr",
          "output_type": "stream",
          "text": [
            "\r 19%|█▉        | 42/224 [00:19<01:18,  2.31it/s]"
          ]
        },
        {
          "name": "stdout",
          "output_type": "stream",
          "text": [
            "File with date: 2015-03-30 and CIK: 0001018840 has lemmatized word list of length: 21592\n"
          ]
        },
        {
          "name": "stderr",
          "output_type": "stream",
          "text": [
            "\r 19%|█▉        | 43/224 [00:20<01:54,  1.57it/s]"
          ]
        },
        {
          "name": "stdout",
          "output_type": "stream",
          "text": [
            "File with date: 2020-02-19 and CIK: 0000070858 has lemmatized word list of length: 85063\n"
          ]
        },
        {
          "name": "stderr",
          "output_type": "stream",
          "text": [
            "\r 20%|█▉        | 44/224 [00:21<02:10,  1.38it/s]"
          ]
        },
        {
          "name": "stdout",
          "output_type": "stream",
          "text": [
            "File with date: 2019-02-26 and CIK: 0000070858 has lemmatized word list of length: 87314\n"
          ]
        },
        {
          "name": "stderr",
          "output_type": "stream",
          "text": [
            "\r 20%|██        | 45/224 [00:22<02:45,  1.08it/s]"
          ]
        },
        {
          "name": "stdout",
          "output_type": "stream",
          "text": [
            "File with date: 2018-02-22 and CIK: 0000070858 has lemmatized word list of length: 62835\n"
          ]
        },
        {
          "name": "stderr",
          "output_type": "stream",
          "text": [
            "\r 21%|██        | 46/224 [00:23<02:38,  1.12it/s]"
          ]
        },
        {
          "name": "stdout",
          "output_type": "stream",
          "text": [
            "File with date: 2017-02-23 and CIK: 0000070858 has lemmatized word list of length: 67272\n"
          ]
        },
        {
          "name": "stderr",
          "output_type": "stream",
          "text": [
            "\r 21%|██        | 47/224 [00:24<02:50,  1.04it/s]"
          ]
        },
        {
          "name": "stdout",
          "output_type": "stream",
          "text": [
            "File with date: 2016-02-24 and CIK: 0000070858 has lemmatized word list of length: 78241\n"
          ]
        },
        {
          "name": "stderr",
          "output_type": "stream",
          "text": [
            "\r 21%|██▏       | 48/224 [00:26<03:14,  1.10s/it]"
          ]
        },
        {
          "name": "stdout",
          "output_type": "stream",
          "text": [
            "File with date: 2015-02-25 and CIK: 0000070858 has lemmatized word list of length: 86503\n"
          ]
        },
        {
          "name": "stderr",
          "output_type": "stream",
          "text": [
            "\r 22%|██▏       | 49/224 [00:26<02:31,  1.15it/s]"
          ]
        },
        {
          "name": "stdout",
          "output_type": "stream",
          "text": [
            "File with date: 2020-03-11 and CIK: 0000027419 has lemmatized word list of length: 15474\n"
          ]
        },
        {
          "name": "stderr",
          "output_type": "stream",
          "text": [
            "\r 22%|██▏       | 50/224 [00:26<02:03,  1.41it/s]"
          ]
        },
        {
          "name": "stdout",
          "output_type": "stream",
          "text": [
            "File with date: 2019-03-13 and CIK: 0000027419 has lemmatized word list of length: 12651\n"
          ]
        },
        {
          "name": "stderr",
          "output_type": "stream",
          "text": [
            "\r 23%|██▎       | 51/224 [00:26<01:41,  1.70it/s]"
          ]
        },
        {
          "name": "stdout",
          "output_type": "stream",
          "text": [
            "File with date: 2018-03-14 and CIK: 0000027419 has lemmatized word list of length: 13804\n"
          ]
        },
        {
          "name": "stderr",
          "output_type": "stream",
          "text": [
            " 24%|██▎       | 53/224 [00:27<01:07,  2.52it/s]"
          ]
        },
        {
          "name": "stdout",
          "output_type": "stream",
          "text": [
            "File with date: 2017-03-08 and CIK: 0000027419 has lemmatized word list of length: 12986\n",
            "File with date: 2016-03-11 and CIK: 0000027419 has lemmatized word list of length: 14262\n"
          ]
        },
        {
          "name": "stderr",
          "output_type": "stream",
          "text": [
            "\r 24%|██▍       | 54/224 [00:27<00:57,  2.96it/s]"
          ]
        },
        {
          "name": "stdout",
          "output_type": "stream",
          "text": [
            "File with date: 2015-03-13 and CIK: 0000027419 has lemmatized word list of length: 14753\n"
          ]
        },
        {
          "name": "stderr",
          "output_type": "stream",
          "text": [
            "\r 25%|██▍       | 55/224 [00:28<01:03,  2.64it/s]"
          ]
        },
        {
          "name": "stdout",
          "output_type": "stream",
          "text": [
            "File with date: 2020-02-14 and CIK: 0001637459 has lemmatized word list of length: 43193\n"
          ]
        },
        {
          "name": "stderr",
          "output_type": "stream",
          "text": [
            "\r 25%|██▌       | 56/224 [00:28<01:13,  2.28it/s]"
          ]
        },
        {
          "name": "stdout",
          "output_type": "stream",
          "text": [
            "File with date: 2019-06-07 and CIK: 0001637459 has lemmatized word list of length: 51657\n"
          ]
        },
        {
          "name": "stderr",
          "output_type": "stream",
          "text": [
            "\r 25%|██▌       | 57/224 [00:29<01:08,  2.44it/s]"
          ]
        },
        {
          "name": "stdout",
          "output_type": "stream",
          "text": [
            "File with date: 2018-02-16 and CIK: 0001637459 has lemmatized word list of length: 28516\n"
          ]
        },
        {
          "name": "stderr",
          "output_type": "stream",
          "text": [
            "\r 26%|██▌       | 58/224 [00:29<01:24,  1.96it/s]"
          ]
        },
        {
          "name": "stdout",
          "output_type": "stream",
          "text": [
            "File with date: 2017-02-23 and CIK: 0001637459 has lemmatized word list of length: 27845\n"
          ]
        },
        {
          "name": "stderr",
          "output_type": "stream",
          "text": [
            "\r 26%|██▋       | 59/224 [00:30<01:37,  1.70it/s]"
          ]
        },
        {
          "name": "stdout",
          "output_type": "stream",
          "text": [
            "File with date: 2016-03-03 and CIK: 0001637459 has lemmatized word list of length: 29262\n"
          ]
        },
        {
          "name": "stderr",
          "output_type": "stream",
          "text": [
            "\r 27%|██▋       | 60/224 [00:31<01:42,  1.59it/s]"
          ]
        },
        {
          "name": "stdout",
          "output_type": "stream",
          "text": [
            "File with date: 2020-02-18 and CIK: 0000064803 has lemmatized word list of length: 61633\n"
          ]
        },
        {
          "name": "stderr",
          "output_type": "stream",
          "text": [
            "\r 27%|██▋       | 61/224 [00:31<01:29,  1.83it/s]"
          ]
        },
        {
          "name": "stdout",
          "output_type": "stream",
          "text": [
            "File with date: 2019-02-28 and CIK: 0000064803 has lemmatized word list of length: 30049\n"
          ]
        },
        {
          "name": "stderr",
          "output_type": "stream",
          "text": [
            " 28%|██▊       | 63/224 [00:32<01:00,  2.67it/s]"
          ]
        },
        {
          "name": "stdout",
          "output_type": "stream",
          "text": [
            "File with date: 2018-02-14 and CIK: 0000064803 has lemmatized word list of length: 19045\n",
            "File with date: 2017-02-09 and CIK: 0000064803 has lemmatized word list of length: 13421\n"
          ]
        },
        {
          "name": "stderr",
          "output_type": "stream",
          "text": [
            "\r 29%|██▊       | 64/224 [00:32<00:51,  3.11it/s]"
          ]
        },
        {
          "name": "stdout",
          "output_type": "stream",
          "text": [
            "File with date: 2016-02-09 and CIK: 0000064803 has lemmatized word list of length: 12469\n"
          ]
        },
        {
          "name": "stderr",
          "output_type": "stream",
          "text": [
            " 29%|██▉       | 66/224 [00:32<00:41,  3.80it/s]"
          ]
        },
        {
          "name": "stdout",
          "output_type": "stream",
          "text": [
            "File with date: 2015-02-10 and CIK: 0000064803 has lemmatized word list of length: 10878\n",
            "File with date: 2017-11-17 and CIK: 0000865436 has lemmatized word list of length: 10621\n"
          ]
        },
        {
          "name": "stderr",
          "output_type": "stream",
          "text": [
            "\r 30%|██▉       | 67/224 [00:33<00:44,  3.55it/s]"
          ]
        },
        {
          "name": "stdout",
          "output_type": "stream",
          "text": [
            "File with date: 2016-11-18 and CIK: 0000865436 has lemmatized word list of length: 17835\n"
          ]
        },
        {
          "name": "stderr",
          "output_type": "stream",
          "text": [
            "\r 30%|███       | 68/224 [00:33<00:48,  3.20it/s]"
          ]
        },
        {
          "name": "stdout",
          "output_type": "stream",
          "text": [
            "File with date: 2015-11-13 and CIK: 0000865436 has lemmatized word list of length: 17896\n"
          ]
        },
        {
          "name": "stderr",
          "output_type": "stream",
          "text": [
            "\r 31%|███       | 69/224 [00:34<01:09,  2.24it/s]"
          ]
        },
        {
          "name": "stdout",
          "output_type": "stream",
          "text": [
            "File with date: 2020-02-28 and CIK: 0000031462 has lemmatized word list of length: 34649\n"
          ]
        },
        {
          "name": "stderr",
          "output_type": "stream",
          "text": [
            "\r 31%|███▏      | 70/224 [00:34<01:11,  2.16it/s]"
          ]
        },
        {
          "name": "stdout",
          "output_type": "stream",
          "text": [
            "File with date: 2019-03-01 and CIK: 0000031462 has lemmatized word list of length: 30905\n"
          ]
        },
        {
          "name": "stderr",
          "output_type": "stream",
          "text": [
            "\r 32%|███▏      | 71/224 [00:35<01:19,  1.92it/s]"
          ]
        },
        {
          "name": "stdout",
          "output_type": "stream",
          "text": [
            "File with date: 2018-02-23 and CIK: 0000031462 has lemmatized word list of length: 32532\n"
          ]
        },
        {
          "name": "stderr",
          "output_type": "stream",
          "text": [
            "\r 32%|███▏      | 72/224 [00:35<01:13,  2.06it/s]"
          ]
        },
        {
          "name": "stdout",
          "output_type": "stream",
          "text": [
            "File with date: 2017-02-24 and CIK: 0000031462 has lemmatized word list of length: 30161\n"
          ]
        },
        {
          "name": "stderr",
          "output_type": "stream",
          "text": [
            " 33%|███▎      | 74/224 [00:36<00:58,  2.55it/s]"
          ]
        },
        {
          "name": "stdout",
          "output_type": "stream",
          "text": [
            "File with date: 2016-02-26 and CIK: 0000031462 has lemmatized word list of length: 31867\n",
            "File with date: 2015-02-27 and CIK: 0000031462 has lemmatized word list of length: 9937\n"
          ]
        },
        {
          "name": "stderr",
          "output_type": "stream",
          "text": [
            "\r 33%|███▎      | 75/224 [00:37<01:12,  2.05it/s]"
          ]
        },
        {
          "name": "stdout",
          "output_type": "stream",
          "text": [
            "File with date: 2020-03-02 and CIK: 0001378946 has lemmatized word list of length: 57453\n"
          ]
        },
        {
          "name": "stderr",
          "output_type": "stream",
          "text": [
            "\r 34%|███▍      | 76/224 [00:37<01:29,  1.65it/s]"
          ]
        },
        {
          "name": "stdout",
          "output_type": "stream",
          "text": [
            "File with date: 2019-03-01 and CIK: 0001378946 has lemmatized word list of length: 46344\n"
          ]
        },
        {
          "name": "stderr",
          "output_type": "stream",
          "text": [
            "\r 34%|███▍      | 77/224 [00:39<01:53,  1.29it/s]"
          ]
        },
        {
          "name": "stdout",
          "output_type": "stream",
          "text": [
            "File with date: 2018-03-01 and CIK: 0001378946 has lemmatized word list of length: 45691\n"
          ]
        },
        {
          "name": "stderr",
          "output_type": "stream",
          "text": [
            "\r 35%|███▍      | 78/224 [00:39<01:47,  1.35it/s]"
          ]
        },
        {
          "name": "stdout",
          "output_type": "stream",
          "text": [
            "File with date: 2017-03-01 and CIK: 0001378946 has lemmatized word list of length: 43552\n"
          ]
        },
        {
          "name": "stderr",
          "output_type": "stream",
          "text": [
            "\r 35%|███▌      | 79/224 [00:40<01:50,  1.31it/s]"
          ]
        },
        {
          "name": "stdout",
          "output_type": "stream",
          "text": [
            "File with date: 2016-02-29 and CIK: 0001378946 has lemmatized word list of length: 42184\n"
          ]
        },
        {
          "name": "stderr",
          "output_type": "stream",
          "text": [
            "\r 36%|███▌      | 80/224 [00:41<02:09,  1.11it/s]"
          ]
        },
        {
          "name": "stdout",
          "output_type": "stream",
          "text": [
            "File with date: 2015-03-02 and CIK: 0001378946 has lemmatized word list of length: 42688\n"
          ]
        },
        {
          "name": "stderr",
          "output_type": "stream",
          "text": [
            "\r 36%|███▌      | 81/224 [00:43<02:29,  1.04s/it]"
          ]
        },
        {
          "name": "stdout",
          "output_type": "stream",
          "text": [
            "File with date: 2020-02-12 and CIK: 0000024545 has lemmatized word list of length: 51985\n"
          ]
        },
        {
          "name": "stderr",
          "output_type": "stream",
          "text": [
            "\r 37%|███▋      | 82/224 [00:44<02:45,  1.17s/it]"
          ]
        },
        {
          "name": "stdout",
          "output_type": "stream",
          "text": [
            "File with date: 2019-02-12 and CIK: 0000024545 has lemmatized word list of length: 44986\n"
          ]
        },
        {
          "name": "stderr",
          "output_type": "stream",
          "text": [
            "\r 37%|███▋      | 83/224 [00:45<02:32,  1.08s/it]"
          ]
        },
        {
          "name": "stdout",
          "output_type": "stream",
          "text": [
            "File with date: 2018-02-14 and CIK: 0000024545 has lemmatized word list of length: 45023\n"
          ]
        },
        {
          "name": "stderr",
          "output_type": "stream",
          "text": [
            "\r 38%|███▊      | 84/224 [00:46<02:30,  1.08s/it]"
          ]
        },
        {
          "name": "stdout",
          "output_type": "stream",
          "text": [
            "File with date: 2017-02-14 and CIK: 0000024545 has lemmatized word list of length: 48019\n"
          ]
        },
        {
          "name": "stderr",
          "output_type": "stream",
          "text": [
            "\r 38%|███▊      | 85/224 [00:47<02:07,  1.09it/s]"
          ]
        },
        {
          "name": "stdout",
          "output_type": "stream",
          "text": [
            "File with date: 2016-02-11 and CIK: 0000024545 has lemmatized word list of length: 44782\n"
          ]
        },
        {
          "name": "stderr",
          "output_type": "stream",
          "text": [
            "\r 38%|███▊      | 86/224 [00:47<01:48,  1.27it/s]"
          ]
        },
        {
          "name": "stdout",
          "output_type": "stream",
          "text": [
            "File with date: 2015-02-12 and CIK: 0000024545 has lemmatized word list of length: 41462\n"
          ]
        },
        {
          "name": "stderr",
          "output_type": "stream",
          "text": [
            "\r 39%|███▉      | 87/224 [00:48<01:32,  1.48it/s]"
          ]
        },
        {
          "name": "stdout",
          "output_type": "stream",
          "text": [
            "File with date: 2020-02-27 and CIK: 0000354908 has lemmatized word list of length: 36765\n"
          ]
        },
        {
          "name": "stderr",
          "output_type": "stream",
          "text": [
            "\r 39%|███▉      | 88/224 [00:48<01:19,  1.71it/s]"
          ]
        },
        {
          "name": "stdout",
          "output_type": "stream",
          "text": [
            "File with date: 2019-02-28 and CIK: 0000354908 has lemmatized word list of length: 29373\n"
          ]
        },
        {
          "name": "stderr",
          "output_type": "stream",
          "text": [
            "\r 40%|███▉      | 89/224 [00:48<01:12,  1.87it/s]"
          ]
        },
        {
          "name": "stdout",
          "output_type": "stream",
          "text": [
            "File with date: 2018-02-23 and CIK: 0000354908 has lemmatized word list of length: 29029\n"
          ]
        },
        {
          "name": "stderr",
          "output_type": "stream",
          "text": [
            "\r 40%|████      | 90/224 [00:49<01:03,  2.11it/s]"
          ]
        },
        {
          "name": "stdout",
          "output_type": "stream",
          "text": [
            "File with date: 2017-02-24 and CIK: 0000354908 has lemmatized word list of length: 27093\n"
          ]
        },
        {
          "name": "stderr",
          "output_type": "stream",
          "text": [
            "\r 41%|████      | 91/224 [00:49<00:57,  2.31it/s]"
          ]
        },
        {
          "name": "stdout",
          "output_type": "stream",
          "text": [
            "File with date: 2016-02-26 and CIK: 0000354908 has lemmatized word list of length: 24432\n"
          ]
        },
        {
          "name": "stderr",
          "output_type": "stream",
          "text": [
            "\r 41%|████      | 92/224 [00:49<00:51,  2.58it/s]"
          ]
        },
        {
          "name": "stdout",
          "output_type": "stream",
          "text": [
            "File with date: 2015-02-27 and CIK: 0000354908 has lemmatized word list of length: 22202\n"
          ]
        },
        {
          "name": "stderr",
          "output_type": "stream",
          "text": [
            "\r 42%|████▏     | 93/224 [00:50<01:11,  1.82it/s]"
          ]
        },
        {
          "name": "stdout",
          "output_type": "stream",
          "text": [
            "File with date: 2020-02-28 and CIK: 0000816761 has lemmatized word list of length: 24943\n"
          ]
        },
        {
          "name": "stderr",
          "output_type": "stream",
          "text": [
            "\r 42%|████▏     | 94/224 [00:51<01:13,  1.76it/s]"
          ]
        },
        {
          "name": "stdout",
          "output_type": "stream",
          "text": [
            "File with date: 2019-02-26 and CIK: 0000816761 has lemmatized word list of length: 22937\n"
          ]
        },
        {
          "name": "stderr",
          "output_type": "stream",
          "text": [
            "\r 42%|████▏     | 95/224 [00:52<01:23,  1.54it/s]"
          ]
        },
        {
          "name": "stdout",
          "output_type": "stream",
          "text": [
            "File with date: 2018-02-23 and CIK: 0000816761 has lemmatized word list of length: 22061\n"
          ]
        },
        {
          "name": "stderr",
          "output_type": "stream",
          "text": [
            "\r 43%|████▎     | 96/224 [00:52<01:23,  1.54it/s]"
          ]
        },
        {
          "name": "stdout",
          "output_type": "stream",
          "text": [
            "File with date: 2017-02-27 and CIK: 0000816761 has lemmatized word list of length: 22964\n"
          ]
        },
        {
          "name": "stderr",
          "output_type": "stream",
          "text": [
            "\r 43%|████▎     | 97/224 [00:53<01:12,  1.74it/s]"
          ]
        },
        {
          "name": "stdout",
          "output_type": "stream",
          "text": [
            "File with date: 2016-02-26 and CIK: 0000816761 has lemmatized word list of length: 22558\n"
          ]
        },
        {
          "name": "stderr",
          "output_type": "stream",
          "text": [
            "\r 44%|████▍     | 98/224 [00:53<01:00,  2.09it/s]"
          ]
        },
        {
          "name": "stdout",
          "output_type": "stream",
          "text": [
            "File with date: 2015-02-27 and CIK: 0000816761 has lemmatized word list of length: 19964\n"
          ]
        },
        {
          "name": "stderr",
          "output_type": "stream",
          "text": [
            "\r 44%|████▍     | 99/224 [00:53<00:56,  2.20it/s]"
          ]
        },
        {
          "name": "stdout",
          "output_type": "stream",
          "text": [
            "File with date: 2020-11-20 and CIK: 0000882184 has lemmatized word list of length: 32688\n"
          ]
        },
        {
          "name": "stderr",
          "output_type": "stream",
          "text": [
            "\r 45%|████▍     | 100/224 [00:54<00:52,  2.37it/s]"
          ]
        },
        {
          "name": "stdout",
          "output_type": "stream",
          "text": [
            "File with date: 2019-11-25 and CIK: 0000882184 has lemmatized word list of length: 29922\n"
          ]
        },
        {
          "name": "stderr",
          "output_type": "stream",
          "text": [
            "\r 45%|████▌     | 101/224 [00:54<00:51,  2.37it/s]"
          ]
        },
        {
          "name": "stdout",
          "output_type": "stream",
          "text": [
            "File with date: 2018-11-16 and CIK: 0000882184 has lemmatized word list of length: 27956\n"
          ]
        },
        {
          "name": "stderr",
          "output_type": "stream",
          "text": [
            "\r 46%|████▌     | 102/224 [00:54<00:47,  2.58it/s]"
          ]
        },
        {
          "name": "stdout",
          "output_type": "stream",
          "text": [
            "File with date: 2017-11-15 and CIK: 0000882184 has lemmatized word list of length: 24659\n"
          ]
        },
        {
          "name": "stderr",
          "output_type": "stream",
          "text": [
            "\r 46%|████▌     | 103/224 [00:55<00:44,  2.71it/s]"
          ]
        },
        {
          "name": "stdout",
          "output_type": "stream",
          "text": [
            "File with date: 2016-11-18 and CIK: 0000882184 has lemmatized word list of length: 24796\n"
          ]
        },
        {
          "name": "stderr",
          "output_type": "stream",
          "text": [
            "\r 46%|████▋     | 104/224 [00:56<00:59,  2.00it/s]"
          ]
        },
        {
          "name": "stdout",
          "output_type": "stream",
          "text": [
            "File with date: 2015-11-19 and CIK: 0000882184 has lemmatized word list of length: 26678\n"
          ]
        },
        {
          "name": "stderr",
          "output_type": "stream",
          "text": [
            "\r 47%|████▋     | 105/224 [00:56<00:57,  2.07it/s]"
          ]
        },
        {
          "name": "stdout",
          "output_type": "stream",
          "text": [
            "File with date: 2020-02-20 and CIK: 0000277135 has lemmatized word list of length: 16728\n"
          ]
        },
        {
          "name": "stderr",
          "output_type": "stream",
          "text": [
            "\r 47%|████▋     | 106/224 [00:56<00:51,  2.29it/s]"
          ]
        },
        {
          "name": "stdout",
          "output_type": "stream",
          "text": [
            "File with date: 2019-02-28 and CIK: 0000277135 has lemmatized word list of length: 15663\n"
          ]
        },
        {
          "name": "stderr",
          "output_type": "stream",
          "text": [
            "\r 48%|████▊     | 107/224 [00:57<00:44,  2.64it/s]"
          ]
        },
        {
          "name": "stdout",
          "output_type": "stream",
          "text": [
            "File with date: 2018-02-26 and CIK: 0000277135 has lemmatized word list of length: 18025\n"
          ]
        },
        {
          "name": "stderr",
          "output_type": "stream",
          "text": [
            "\r 48%|████▊     | 108/224 [00:57<00:42,  2.71it/s]"
          ]
        },
        {
          "name": "stdout",
          "output_type": "stream",
          "text": [
            "File with date: 2017-02-28 and CIK: 0000277135 has lemmatized word list of length: 18431\n"
          ]
        },
        {
          "name": "stderr",
          "output_type": "stream",
          "text": [
            "\r 49%|████▊     | 109/224 [00:57<00:45,  2.53it/s]"
          ]
        },
        {
          "name": "stdout",
          "output_type": "stream",
          "text": [
            "File with date: 2016-02-29 and CIK: 0000277135 has lemmatized word list of length: 17514\n"
          ]
        },
        {
          "name": "stderr",
          "output_type": "stream",
          "text": [
            "\r 49%|████▉     | 110/224 [00:58<00:45,  2.51it/s]"
          ]
        },
        {
          "name": "stdout",
          "output_type": "stream",
          "text": [
            "File with date: 2015-02-27 and CIK: 0000277135 has lemmatized word list of length: 16216\n"
          ]
        },
        {
          "name": "stderr",
          "output_type": "stream",
          "text": [
            "\r 50%|████▉     | 111/224 [00:58<00:47,  2.37it/s]"
          ]
        },
        {
          "name": "stdout",
          "output_type": "stream",
          "text": [
            "File with date: 2020-02-25 and CIK: 0001000697 has lemmatized word list of length: 31483\n"
          ]
        },
        {
          "name": "stderr",
          "output_type": "stream",
          "text": [
            "\r 50%|█████     | 112/224 [00:59<00:47,  2.35it/s]"
          ]
        },
        {
          "name": "stdout",
          "output_type": "stream",
          "text": [
            "File with date: 2019-02-26 and CIK: 0001000697 has lemmatized word list of length: 26722\n"
          ]
        },
        {
          "name": "stderr",
          "output_type": "stream",
          "text": [
            "\r 50%|█████     | 113/224 [00:59<00:43,  2.53it/s]"
          ]
        },
        {
          "name": "stdout",
          "output_type": "stream",
          "text": [
            "File with date: 2018-02-27 and CIK: 0001000697 has lemmatized word list of length: 26625\n"
          ]
        },
        {
          "name": "stderr",
          "output_type": "stream",
          "text": [
            "\r 51%|█████     | 114/224 [00:59<00:41,  2.66it/s]"
          ]
        },
        {
          "name": "stdout",
          "output_type": "stream",
          "text": [
            "File with date: 2017-02-24 and CIK: 0001000697 has lemmatized word list of length: 25204\n"
          ]
        },
        {
          "name": "stderr",
          "output_type": "stream",
          "text": [
            "\r 51%|█████▏    | 115/224 [01:00<00:38,  2.85it/s]"
          ]
        },
        {
          "name": "stdout",
          "output_type": "stream",
          "text": [
            "File with date: 2016-02-26 and CIK: 0001000697 has lemmatized word list of length: 22973\n"
          ]
        },
        {
          "name": "stderr",
          "output_type": "stream",
          "text": [
            "\r 52%|█████▏    | 116/224 [01:00<00:35,  3.01it/s]"
          ]
        },
        {
          "name": "stdout",
          "output_type": "stream",
          "text": [
            "File with date: 2015-02-27 and CIK: 0001000697 has lemmatized word list of length: 22238\n"
          ]
        },
        {
          "name": "stderr",
          "output_type": "stream",
          "text": [
            "\r 52%|█████▏    | 117/224 [01:00<00:37,  2.83it/s]"
          ]
        },
        {
          "name": "stdout",
          "output_type": "stream",
          "text": [
            "File with date: 2020-02-10 and CIK: 0000804753 has lemmatized word list of length: 25576\n"
          ]
        },
        {
          "name": "stderr",
          "output_type": "stream",
          "text": [
            "\r 53%|█████▎    | 118/224 [01:01<00:37,  2.85it/s]"
          ]
        },
        {
          "name": "stdout",
          "output_type": "stream",
          "text": [
            "File with date: 2019-02-08 and CIK: 0000804753 has lemmatized word list of length: 21576\n"
          ]
        },
        {
          "name": "stderr",
          "output_type": "stream",
          "text": [
            "\r 53%|█████▎    | 119/224 [01:01<00:36,  2.88it/s]"
          ]
        },
        {
          "name": "stdout",
          "output_type": "stream",
          "text": [
            "File with date: 2018-02-12 and CIK: 0000804753 has lemmatized word list of length: 21677\n"
          ]
        },
        {
          "name": "stderr",
          "output_type": "stream",
          "text": [
            "\r 54%|█████▎    | 120/224 [01:01<00:36,  2.89it/s]"
          ]
        },
        {
          "name": "stdout",
          "output_type": "stream",
          "text": [
            "File with date: 2017-02-10 and CIK: 0000804753 has lemmatized word list of length: 21463\n"
          ]
        },
        {
          "name": "stderr",
          "output_type": "stream",
          "text": [
            "\r 54%|█████▍    | 121/224 [01:02<00:34,  2.97it/s]"
          ]
        },
        {
          "name": "stdout",
          "output_type": "stream",
          "text": [
            "File with date: 2016-02-17 and CIK: 0000804753 has lemmatized word list of length: 20992\n"
          ]
        },
        {
          "name": "stderr",
          "output_type": "stream",
          "text": [
            "\r 54%|█████▍    | 122/224 [01:02<00:32,  3.18it/s]"
          ]
        },
        {
          "name": "stdout",
          "output_type": "stream",
          "text": [
            "File with date: 2015-02-11 and CIK: 0000804753 has lemmatized word list of length: 19448\n"
          ]
        },
        {
          "name": "stderr",
          "output_type": "stream",
          "text": [
            "\r 55%|█████▍    | 123/224 [01:02<00:36,  2.81it/s]"
          ]
        },
        {
          "name": "stdout",
          "output_type": "stream",
          "text": [
            "File with date: 2019-02-28 and CIK: 0000754737 has lemmatized word list of length: 25804\n"
          ]
        },
        {
          "name": "stderr",
          "output_type": "stream",
          "text": [
            "\r 55%|█████▌    | 124/224 [01:04<00:59,  1.67it/s]"
          ]
        },
        {
          "name": "stdout",
          "output_type": "stream",
          "text": [
            "File with date: 2018-02-23 and CIK: 0000754737 has lemmatized word list of length: 42422\n"
          ]
        },
        {
          "name": "stderr",
          "output_type": "stream",
          "text": [
            "\r 56%|█████▌    | 125/224 [01:04<01:03,  1.55it/s]"
          ]
        },
        {
          "name": "stdout",
          "output_type": "stream",
          "text": [
            "File with date: 2017-02-24 and CIK: 0000754737 has lemmatized word list of length: 30265\n"
          ]
        },
        {
          "name": "stderr",
          "output_type": "stream",
          "text": [
            "\r 56%|█████▋    | 126/224 [01:05<01:08,  1.42it/s]"
          ]
        },
        {
          "name": "stdout",
          "output_type": "stream",
          "text": [
            "File with date: 2016-02-26 and CIK: 0000754737 has lemmatized word list of length: 43171\n"
          ]
        },
        {
          "name": "stderr",
          "output_type": "stream",
          "text": [
            "\r 57%|█████▋    | 127/224 [01:06<01:02,  1.54it/s]"
          ]
        },
        {
          "name": "stdout",
          "output_type": "stream",
          "text": [
            "File with date: 2015-02-27 and CIK: 0000754737 has lemmatized word list of length: 43826\n"
          ]
        },
        {
          "name": "stderr",
          "output_type": "stream",
          "text": [
            "\r 57%|█████▋    | 128/224 [01:06<00:58,  1.64it/s]"
          ]
        },
        {
          "name": "stdout",
          "output_type": "stream",
          "text": [
            "File with date: 2020-02-13 and CIK: 0000077476 has lemmatized word list of length: 39204\n"
          ]
        },
        {
          "name": "stderr",
          "output_type": "stream",
          "text": [
            "\r 58%|█████▊    | 129/224 [01:07<00:52,  1.81it/s]"
          ]
        },
        {
          "name": "stdout",
          "output_type": "stream",
          "text": [
            "File with date: 2019-02-15 and CIK: 0000077476 has lemmatized word list of length: 31556\n"
          ]
        },
        {
          "name": "stderr",
          "output_type": "stream",
          "text": [
            "\r 58%|█████▊    | 130/224 [01:07<00:47,  2.00it/s]"
          ]
        },
        {
          "name": "stdout",
          "output_type": "stream",
          "text": [
            "File with date: 2018-02-13 and CIK: 0000077476 has lemmatized word list of length: 32120\n"
          ]
        },
        {
          "name": "stderr",
          "output_type": "stream",
          "text": [
            "\r 58%|█████▊    | 131/224 [01:08<00:47,  1.96it/s]"
          ]
        },
        {
          "name": "stdout",
          "output_type": "stream",
          "text": [
            "File with date: 2017-02-15 and CIK: 0000077476 has lemmatized word list of length: 30667\n"
          ]
        },
        {
          "name": "stderr",
          "output_type": "stream",
          "text": [
            "\r 59%|█████▉    | 132/224 [01:08<00:42,  2.14it/s]"
          ]
        },
        {
          "name": "stdout",
          "output_type": "stream",
          "text": [
            "File with date: 2016-02-11 and CIK: 0000077476 has lemmatized word list of length: 28956\n"
          ]
        },
        {
          "name": "stderr",
          "output_type": "stream",
          "text": [
            "\r 59%|█████▉    | 133/224 [01:08<00:41,  2.21it/s]"
          ]
        },
        {
          "name": "stdout",
          "output_type": "stream",
          "text": [
            "File with date: 2015-02-12 and CIK: 0000077476 has lemmatized word list of length: 28652\n"
          ]
        },
        {
          "name": "stderr",
          "output_type": "stream",
          "text": [
            "\r 60%|█████▉    | 134/224 [01:09<00:39,  2.28it/s]"
          ]
        },
        {
          "name": "stdout",
          "output_type": "stream",
          "text": [
            "File with date: 2020-02-21 and CIK: 0000051644 has lemmatized word list of length: 28030\n"
          ]
        },
        {
          "name": "stderr",
          "output_type": "stream",
          "text": [
            "\r 60%|██████    | 135/224 [01:09<00:39,  2.26it/s]"
          ]
        },
        {
          "name": "stdout",
          "output_type": "stream",
          "text": [
            "File with date: 2019-02-25 and CIK: 0000051644 has lemmatized word list of length: 24479\n"
          ]
        },
        {
          "name": "stderr",
          "output_type": "stream",
          "text": [
            "\r 61%|██████    | 136/224 [01:10<00:37,  2.37it/s]"
          ]
        },
        {
          "name": "stdout",
          "output_type": "stream",
          "text": [
            "File with date: 2018-02-26 and CIK: 0000051644 has lemmatized word list of length: 23068\n"
          ]
        },
        {
          "name": "stderr",
          "output_type": "stream",
          "text": [
            "\r 61%|██████    | 137/224 [01:10<00:33,  2.60it/s]"
          ]
        },
        {
          "name": "stdout",
          "output_type": "stream",
          "text": [
            "File with date: 2017-02-21 and CIK: 0000051644 has lemmatized word list of length: 21454\n"
          ]
        },
        {
          "name": "stderr",
          "output_type": "stream",
          "text": [
            "\r 62%|██████▏   | 138/224 [01:10<00:31,  2.77it/s]"
          ]
        },
        {
          "name": "stdout",
          "output_type": "stream",
          "text": [
            "File with date: 2016-02-22 and CIK: 0000051644 has lemmatized word list of length: 22495\n"
          ]
        },
        {
          "name": "stderr",
          "output_type": "stream",
          "text": [
            "\r 62%|██████▏   | 139/224 [01:11<00:31,  2.68it/s]"
          ]
        },
        {
          "name": "stdout",
          "output_type": "stream",
          "text": [
            "File with date: 2015-02-23 and CIK: 0000051644 has lemmatized word list of length: 22056\n"
          ]
        },
        {
          "name": "stderr",
          "output_type": "stream",
          "text": [
            "\r 62%|██████▎   | 140/224 [01:11<00:29,  2.82it/s]"
          ]
        },
        {
          "name": "stdout",
          "output_type": "stream",
          "text": [
            "File with date: 2020-06-19 and CIK: 0000014693 has lemmatized word list of length: 22086\n"
          ]
        },
        {
          "name": "stderr",
          "output_type": "stream",
          "text": [
            "\r 63%|██████▎   | 141/224 [01:11<00:26,  3.09it/s]"
          ]
        },
        {
          "name": "stdout",
          "output_type": "stream",
          "text": [
            "File with date: 2019-06-13 and CIK: 0000014693 has lemmatized word list of length: 20011\n"
          ]
        },
        {
          "name": "stderr",
          "output_type": "stream",
          "text": [
            "\r 63%|██████▎   | 142/224 [01:12<00:28,  2.91it/s]"
          ]
        },
        {
          "name": "stdout",
          "output_type": "stream",
          "text": [
            "File with date: 2018-06-13 and CIK: 0000014693 has lemmatized word list of length: 20440\n"
          ]
        },
        {
          "name": "stderr",
          "output_type": "stream",
          "text": [
            "\r 64%|██████▍   | 143/224 [01:12<00:26,  3.05it/s]"
          ]
        },
        {
          "name": "stdout",
          "output_type": "stream",
          "text": [
            "File with date: 2017-06-15 and CIK: 0000014693 has lemmatized word list of length: 19795\n"
          ]
        },
        {
          "name": "stderr",
          "output_type": "stream",
          "text": [
            "\r 64%|██████▍   | 144/224 [01:12<00:25,  3.19it/s]"
          ]
        },
        {
          "name": "stdout",
          "output_type": "stream",
          "text": [
            "File with date: 2016-06-16 and CIK: 0000014693 has lemmatized word list of length: 18553\n"
          ]
        },
        {
          "name": "stderr",
          "output_type": "stream",
          "text": [
            "\r 65%|██████▍   | 145/224 [01:12<00:24,  3.23it/s]"
          ]
        },
        {
          "name": "stdout",
          "output_type": "stream",
          "text": [
            "File with date: 2015-06-18 and CIK: 0000014693 has lemmatized word list of length: 18223\n"
          ]
        },
        {
          "name": "stderr",
          "output_type": "stream",
          "text": [
            "\r 65%|██████▌   | 146/224 [01:13<00:32,  2.41it/s]"
          ]
        },
        {
          "name": "stdout",
          "output_type": "stream",
          "text": [
            "File with date: 2020-03-19 and CIK: 0000769397 has lemmatized word list of length: 35825\n"
          ]
        },
        {
          "name": "stderr",
          "output_type": "stream",
          "text": [
            "\r 66%|██████▌   | 147/224 [01:14<00:40,  1.90it/s]"
          ]
        },
        {
          "name": "stdout",
          "output_type": "stream",
          "text": [
            "File with date: 2019-03-25 and CIK: 0000769397 has lemmatized word list of length: 37309\n"
          ]
        },
        {
          "name": "stderr",
          "output_type": "stream",
          "text": [
            "\r 66%|██████▌   | 148/224 [01:15<00:45,  1.66it/s]"
          ]
        },
        {
          "name": "stdout",
          "output_type": "stream",
          "text": [
            "File with date: 2018-03-22 and CIK: 0000769397 has lemmatized word list of length: 36476\n"
          ]
        },
        {
          "name": "stderr",
          "output_type": "stream",
          "text": [
            "\r 67%|██████▋   | 149/224 [01:15<00:41,  1.80it/s]"
          ]
        },
        {
          "name": "stdout",
          "output_type": "stream",
          "text": [
            "File with date: 2017-03-21 and CIK: 0000769397 has lemmatized word list of length: 33132\n"
          ]
        },
        {
          "name": "stderr",
          "output_type": "stream",
          "text": [
            "\r 67%|██████▋   | 150/224 [01:16<00:39,  1.86it/s]"
          ]
        },
        {
          "name": "stdout",
          "output_type": "stream",
          "text": [
            "File with date: 2016-03-23 and CIK: 0000769397 has lemmatized word list of length: 34413\n"
          ]
        },
        {
          "name": "stderr",
          "output_type": "stream",
          "text": [
            "\r 67%|██████▋   | 151/224 [01:16<00:38,  1.92it/s]"
          ]
        },
        {
          "name": "stdout",
          "output_type": "stream",
          "text": [
            "File with date: 2015-03-18 and CIK: 0000769397 has lemmatized word list of length: 30350\n"
          ]
        },
        {
          "name": "stderr",
          "output_type": "stream",
          "text": [
            "\r 68%|██████▊   | 152/224 [01:17<00:44,  1.61it/s]"
          ]
        },
        {
          "name": "stdout",
          "output_type": "stream",
          "text": [
            "File with date: 2020-02-28 and CIK: 0000874761 has lemmatized word list of length: 64869\n"
          ]
        },
        {
          "name": "stderr",
          "output_type": "stream",
          "text": [
            "\r 68%|██████▊   | 153/224 [01:18<00:49,  1.44it/s]"
          ]
        },
        {
          "name": "stdout",
          "output_type": "stream",
          "text": [
            "File with date: 2019-02-27 and CIK: 0000874761 has lemmatized word list of length: 63749\n"
          ]
        },
        {
          "name": "stderr",
          "output_type": "stream",
          "text": [
            "\r 69%|██████▉   | 154/224 [01:19<00:49,  1.41it/s]"
          ]
        },
        {
          "name": "stdout",
          "output_type": "stream",
          "text": [
            "File with date: 2018-02-27 and CIK: 0000874761 has lemmatized word list of length: 52455\n"
          ]
        },
        {
          "name": "stderr",
          "output_type": "stream",
          "text": [
            "\r 69%|██████▉   | 155/224 [01:20<00:56,  1.22it/s]"
          ]
        },
        {
          "name": "stdout",
          "output_type": "stream",
          "text": [
            "File with date: 2017-02-27 and CIK: 0000874761 has lemmatized word list of length: 58443\n"
          ]
        },
        {
          "name": "stderr",
          "output_type": "stream",
          "text": [
            "\r 70%|██████▉   | 156/224 [01:21<01:04,  1.05it/s]"
          ]
        },
        {
          "name": "stdout",
          "output_type": "stream",
          "text": [
            "File with date: 2016-02-24 and CIK: 0000874761 has lemmatized word list of length: 64426\n"
          ]
        },
        {
          "name": "stderr",
          "output_type": "stream",
          "text": [
            "\r 70%|███████   | 157/224 [01:22<01:11,  1.07s/it]"
          ]
        },
        {
          "name": "stdout",
          "output_type": "stream",
          "text": [
            "File with date: 2015-02-26 and CIK: 0000874761 has lemmatized word list of length: 60440\n"
          ]
        },
        {
          "name": "stderr",
          "output_type": "stream",
          "text": [
            "\r 71%|███████   | 158/224 [01:23<01:12,  1.09s/it]"
          ]
        },
        {
          "name": "stdout",
          "output_type": "stream",
          "text": [
            "File with date: 2016-02-25 and CIK: 0000790070 has lemmatized word list of length: 34626\n"
          ]
        },
        {
          "name": "stderr",
          "output_type": "stream",
          "text": [
            "\r 71%|███████   | 159/224 [01:24<00:58,  1.11it/s]"
          ]
        },
        {
          "name": "stdout",
          "output_type": "stream",
          "text": [
            "File with date: 2015-02-27 and CIK: 0000790070 has lemmatized word list of length: 32951\n"
          ]
        },
        {
          "name": "stderr",
          "output_type": "stream",
          "text": [
            "\r 71%|███████▏  | 160/224 [01:24<00:52,  1.21it/s]"
          ]
        },
        {
          "name": "stdout",
          "output_type": "stream",
          "text": [
            "File with date: 2020-02-20 and CIK: 0001047862 has lemmatized word list of length: 55559\n"
          ]
        },
        {
          "name": "stderr",
          "output_type": "stream",
          "text": [
            "\r 72%|███████▏  | 161/224 [01:25<00:46,  1.37it/s]"
          ]
        },
        {
          "name": "stdout",
          "output_type": "stream",
          "text": [
            "File with date: 2019-02-21 and CIK: 0001047862 has lemmatized word list of length: 38588\n"
          ]
        },
        {
          "name": "stderr",
          "output_type": "stream",
          "text": [
            "\r 72%|███████▏  | 162/224 [01:25<00:40,  1.53it/s]"
          ]
        },
        {
          "name": "stdout",
          "output_type": "stream",
          "text": [
            "File with date: 2018-02-15 and CIK: 0001047862 has lemmatized word list of length: 34511\n"
          ]
        },
        {
          "name": "stderr",
          "output_type": "stream",
          "text": [
            "\r 73%|███████▎  | 163/224 [01:26<00:35,  1.71it/s]"
          ]
        },
        {
          "name": "stdout",
          "output_type": "stream",
          "text": [
            "File with date: 2017-02-16 and CIK: 0001047862 has lemmatized word list of length: 32846\n"
          ]
        },
        {
          "name": "stderr",
          "output_type": "stream",
          "text": [
            "\r 73%|███████▎  | 164/224 [01:26<00:32,  1.86it/s]"
          ]
        },
        {
          "name": "stdout",
          "output_type": "stream",
          "text": [
            "File with date: 2016-02-18 and CIK: 0001047862 has lemmatized word list of length: 31045\n"
          ]
        },
        {
          "name": "stderr",
          "output_type": "stream",
          "text": [
            "\r 74%|███████▎  | 165/224 [01:27<00:30,  1.96it/s]"
          ]
        },
        {
          "name": "stdout",
          "output_type": "stream",
          "text": [
            "File with date: 2015-02-19 and CIK: 0001047862 has lemmatized word list of length: 30262\n"
          ]
        },
        {
          "name": "stderr",
          "output_type": "stream",
          "text": [
            "\r 74%|███████▍  | 166/224 [01:27<00:28,  2.06it/s]"
          ]
        },
        {
          "name": "stdout",
          "output_type": "stream",
          "text": [
            "File with date: 2020-03-30 and CIK: 0000701985 has lemmatized word list of length: 30796\n"
          ]
        },
        {
          "name": "stderr",
          "output_type": "stream",
          "text": [
            "\r 75%|███████▍  | 167/224 [01:27<00:25,  2.26it/s]"
          ]
        },
        {
          "name": "stdout",
          "output_type": "stream",
          "text": [
            "File with date: 2019-03-22 and CIK: 0000701985 has lemmatized word list of length: 23366\n"
          ]
        },
        {
          "name": "stderr",
          "output_type": "stream",
          "text": [
            "\r 75%|███████▌  | 168/224 [01:31<01:15,  1.35s/it]"
          ]
        },
        {
          "name": "stdout",
          "output_type": "stream",
          "text": [
            "File with date: 2019-03-22 and CIK: 0000701985 has lemmatized word list of length: 254120\n"
          ]
        },
        {
          "name": "stderr",
          "output_type": "stream",
          "text": [
            "\r 75%|███████▌  | 169/224 [01:31<00:57,  1.04s/it]"
          ]
        },
        {
          "name": "stdout",
          "output_type": "stream",
          "text": [
            "File with date: 2018-03-23 and CIK: 0000701985 has lemmatized word list of length: 22578\n"
          ]
        },
        {
          "name": "stderr",
          "output_type": "stream",
          "text": [
            "\r 76%|███████▌  | 170/224 [01:33<01:12,  1.34s/it]"
          ]
        },
        {
          "name": "stdout",
          "output_type": "stream",
          "text": [
            "File with date: 2018-03-23 and CIK: 0000701985 has lemmatized word list of length: 247991\n"
          ]
        },
        {
          "name": "stderr",
          "output_type": "stream",
          "text": [
            "\r 76%|███████▋  | 171/224 [01:34<00:54,  1.02s/it]"
          ]
        },
        {
          "name": "stdout",
          "output_type": "stream",
          "text": [
            "File with date: 2017-03-17 and CIK: 0000701985 has lemmatized word list of length: 21011\n"
          ]
        },
        {
          "name": "stderr",
          "output_type": "stream",
          "text": [
            "\r 77%|███████▋  | 172/224 [01:36<01:11,  1.37s/it]"
          ]
        },
        {
          "name": "stdout",
          "output_type": "stream",
          "text": [
            "File with date: 2017-03-17 and CIK: 0000701985 has lemmatized word list of length: 267637\n"
          ]
        },
        {
          "name": "stderr",
          "output_type": "stream",
          "text": [
            "\r 77%|███████▋  | 173/224 [01:36<00:53,  1.05s/it]"
          ]
        },
        {
          "name": "stdout",
          "output_type": "stream",
          "text": [
            "File with date: 2016-03-18 and CIK: 0000701985 has lemmatized word list of length: 21200\n"
          ]
        },
        {
          "name": "stderr",
          "output_type": "stream",
          "text": [
            "\r 78%|███████▊  | 174/224 [01:40<01:39,  2.00s/it]"
          ]
        },
        {
          "name": "stdout",
          "output_type": "stream",
          "text": [
            "File with date: 2016-03-18 and CIK: 0000701985 has lemmatized word list of length: 252735\n"
          ]
        },
        {
          "name": "stderr",
          "output_type": "stream",
          "text": [
            "\r 78%|███████▊  | 175/224 [01:41<01:12,  1.48s/it]"
          ]
        },
        {
          "name": "stdout",
          "output_type": "stream",
          "text": [
            "File with date: 2015-03-20 and CIK: 0000701985 has lemmatized word list of length: 21288\n"
          ]
        },
        {
          "name": "stderr",
          "output_type": "stream",
          "text": [
            "\r 79%|███████▊  | 176/224 [01:42<01:16,  1.60s/it]"
          ]
        },
        {
          "name": "stdout",
          "output_type": "stream",
          "text": [
            "File with date: 2015-03-20 and CIK: 0000701985 has lemmatized word list of length: 253215\n"
          ]
        },
        {
          "name": "stderr",
          "output_type": "stream",
          "text": [
            "\r 79%|███████▉  | 177/224 [01:43<00:58,  1.24s/it]"
          ]
        },
        {
          "name": "stdout",
          "output_type": "stream",
          "text": [
            "File with date: 2020-02-19 and CIK: 0000051434 has lemmatized word list of length: 34087\n"
          ]
        },
        {
          "name": "stderr",
          "output_type": "stream",
          "text": [
            "\r 79%|███████▉  | 178/224 [01:43<00:44,  1.03it/s]"
          ]
        },
        {
          "name": "stdout",
          "output_type": "stream",
          "text": [
            "File with date: 2019-02-20 and CIK: 0000051434 has lemmatized word list of length: 26344\n"
          ]
        },
        {
          "name": "stderr",
          "output_type": "stream",
          "text": [
            "\r 80%|███████▉  | 179/224 [01:44<00:35,  1.27it/s]"
          ]
        },
        {
          "name": "stdout",
          "output_type": "stream",
          "text": [
            "File with date: 2018-02-22 and CIK: 0000051434 has lemmatized word list of length: 26992\n"
          ]
        },
        {
          "name": "stderr",
          "output_type": "stream",
          "text": [
            "\r 80%|████████  | 180/224 [01:44<00:28,  1.52it/s]"
          ]
        },
        {
          "name": "stdout",
          "output_type": "stream",
          "text": [
            "File with date: 2017-02-22 and CIK: 0000051434 has lemmatized word list of length: 27863\n"
          ]
        },
        {
          "name": "stderr",
          "output_type": "stream",
          "text": [
            "\r 81%|████████  | 181/224 [01:44<00:24,  1.75it/s]"
          ]
        },
        {
          "name": "stdout",
          "output_type": "stream",
          "text": [
            "File with date: 2016-02-25 and CIK: 0000051434 has lemmatized word list of length: 29161\n"
          ]
        },
        {
          "name": "stderr",
          "output_type": "stream",
          "text": [
            "\r 81%|████████▏ | 182/224 [01:45<00:21,  1.96it/s]"
          ]
        },
        {
          "name": "stdout",
          "output_type": "stream",
          "text": [
            "File with date: 2015-02-26 and CIK: 0000051434 has lemmatized word list of length: 28895\n"
          ]
        },
        {
          "name": "stderr",
          "output_type": "stream",
          "text": [
            "\r 82%|████████▏ | 183/224 [01:45<00:22,  1.79it/s]"
          ]
        },
        {
          "name": "stdout",
          "output_type": "stream",
          "text": [
            "File with date: 2020-02-20 and CIK: 0000927628 has lemmatized word list of length: 57144\n"
          ]
        },
        {
          "name": "stderr",
          "output_type": "stream",
          "text": [
            "\r 82%|████████▏ | 184/224 [01:46<00:23,  1.69it/s]"
          ]
        },
        {
          "name": "stdout",
          "output_type": "stream",
          "text": [
            "File with date: 2019-02-20 and CIK: 0000927628 has lemmatized word list of length: 62252\n",
            "Key error!\n"
          ]
        },
        {
          "name": "stderr",
          "output_type": "stream",
          "text": [
            "\r 83%|████████▎ | 186/224 [01:47<00:17,  2.18it/s]"
          ]
        },
        {
          "name": "stdout",
          "output_type": "stream",
          "text": [
            "File with date: 2018-02-21 and CIK: 0000927628 has lemmatized word list of length: 50082\n"
          ]
        },
        {
          "name": "stderr",
          "output_type": "stream",
          "text": [
            "\r 83%|████████▎ | 187/224 [01:50<00:47,  1.28s/it]"
          ]
        },
        {
          "name": "stdout",
          "output_type": "stream",
          "text": [
            "File with date: 2018-02-21 and CIK: 0000927628 has lemmatized word list of length: 477284\n"
          ]
        },
        {
          "name": "stderr",
          "output_type": "stream",
          "text": [
            "\r 84%|████████▍ | 188/224 [01:51<00:40,  1.12s/it]"
          ]
        },
        {
          "name": "stdout",
          "output_type": "stream",
          "text": [
            "File with date: 2017-02-23 and CIK: 0000927628 has lemmatized word list of length: 51603\n",
            "Key error!\n"
          ]
        },
        {
          "name": "stderr",
          "output_type": "stream",
          "text": [
            "\r 85%|████████▍ | 190/224 [01:52<00:26,  1.28it/s]"
          ]
        },
        {
          "name": "stdout",
          "output_type": "stream",
          "text": [
            "File with date: 2016-02-25 and CIK: 0000927628 has lemmatized word list of length: 52707\n",
            "Key error!\n"
          ]
        },
        {
          "name": "stderr",
          "output_type": "stream",
          "text": [
            "\r 86%|████████▌ | 192/224 [01:52<00:19,  1.65it/s]"
          ]
        },
        {
          "name": "stdout",
          "output_type": "stream",
          "text": [
            "File with date: 2015-02-24 and CIK: 0000927628 has lemmatized word list of length: 53571\n",
            "Key error!\n"
          ]
        },
        {
          "name": "stderr",
          "output_type": "stream",
          "text": [
            "\r 87%|████████▋ | 194/224 [01:53<00:14,  2.09it/s]"
          ]
        },
        {
          "name": "stdout",
          "output_type": "stream",
          "text": [
            "File with date: 2020-02-19 and CIK: 0000018230 has lemmatized word list of length: 46475\n"
          ]
        },
        {
          "name": "stderr",
          "output_type": "stream",
          "text": [
            "\r 87%|████████▋ | 195/224 [01:57<00:35,  1.23s/it]"
          ]
        },
        {
          "name": "stdout",
          "output_type": "stream",
          "text": [
            "File with date: 2020-02-19 and CIK: 0000018230 has lemmatized word list of length: 374798\n"
          ]
        },
        {
          "name": "stderr",
          "output_type": "stream",
          "text": [
            "\r 88%|████████▊ | 196/224 [01:58<00:29,  1.06s/it]"
          ]
        },
        {
          "name": "stdout",
          "output_type": "stream",
          "text": [
            "File with date: 2019-02-14 and CIK: 0000018230 has lemmatized word list of length: 31494\n"
          ]
        },
        {
          "name": "stderr",
          "output_type": "stream",
          "text": [
            "\r 88%|████████▊ | 197/224 [02:15<02:13,  4.95s/it]"
          ]
        },
        {
          "name": "stdout",
          "output_type": "stream",
          "text": [
            "File with date: 2019-02-14 and CIK: 0000018230 has lemmatized word list of length: 2289620\n"
          ]
        },
        {
          "name": "stderr",
          "output_type": "stream",
          "text": [
            "\r 88%|████████▊ | 198/224 [02:15<01:38,  3.78s/it]"
          ]
        },
        {
          "name": "stdout",
          "output_type": "stream",
          "text": [
            "File with date: 2018-02-15 and CIK: 0000018230 has lemmatized word list of length: 32753\n"
          ]
        },
        {
          "name": "stderr",
          "output_type": "stream",
          "text": [
            "\r 89%|████████▉ | 199/224 [02:19<01:36,  3.84s/it]"
          ]
        },
        {
          "name": "stdout",
          "output_type": "stream",
          "text": [
            "File with date: 2018-02-15 and CIK: 0000018230 has lemmatized word list of length: 548330\n"
          ]
        },
        {
          "name": "stderr",
          "output_type": "stream",
          "text": [
            "\r 89%|████████▉ | 200/224 [02:19<01:09,  2.89s/it]"
          ]
        },
        {
          "name": "stdout",
          "output_type": "stream",
          "text": [
            "File with date: 2017-02-15 and CIK: 0000018230 has lemmatized word list of length: 33072\n"
          ]
        },
        {
          "name": "stderr",
          "output_type": "stream",
          "text": [
            "\r 90%|████████▉ | 201/224 [02:23<01:13,  3.20s/it]"
          ]
        },
        {
          "name": "stdout",
          "output_type": "stream",
          "text": [
            "File with date: 2017-02-15 and CIK: 0000018230 has lemmatized word list of length: 564205\n"
          ]
        },
        {
          "name": "stderr",
          "output_type": "stream",
          "text": [
            "\r 90%|█████████ | 202/224 [02:24<00:52,  2.38s/it]"
          ]
        },
        {
          "name": "stdout",
          "output_type": "stream",
          "text": [
            "File with date: 2016-02-16 and CIK: 0000018230 has lemmatized word list of length: 32645\n"
          ]
        },
        {
          "name": "stderr",
          "output_type": "stream",
          "text": [
            " 91%|█████████ | 204/224 [02:27<00:37,  1.88s/it]"
          ]
        },
        {
          "name": "stdout",
          "output_type": "stream",
          "text": [
            "File with date: 2016-02-16 and CIK: 0000018230 has lemmatized word list of length: 451001\n",
            "File with date: 2015-02-17 and CIK: 0000018230 has lemmatized word list of length: 9700\n"
          ]
        },
        {
          "name": "stderr",
          "output_type": "stream",
          "text": [
            "\r 92%|█████████▏| 205/224 [02:28<00:28,  1.48s/it]"
          ]
        },
        {
          "name": "stdout",
          "output_type": "stream",
          "text": [
            "File with date: 2016-02-29 and CIK: 0001001288 has lemmatized word list of length: 46347\n"
          ]
        },
        {
          "name": "stderr",
          "output_type": "stream",
          "text": [
            "\r 92%|█████████▏| 206/224 [02:28<00:21,  1.19s/it]"
          ]
        },
        {
          "name": "stdout",
          "output_type": "stream",
          "text": [
            "File with date: 2015-03-02 and CIK: 0001001288 has lemmatized word list of length: 44575\n"
          ]
        },
        {
          "name": "stderr",
          "output_type": "stream",
          "text": [
            "\r 92%|█████████▏| 207/224 [02:29<00:16,  1.04it/s]"
          ]
        },
        {
          "name": "stdout",
          "output_type": "stream",
          "text": [
            "File with date: 2020-02-28 and CIK: 0000797468 has lemmatized word list of length: 39537\n"
          ]
        },
        {
          "name": "stderr",
          "output_type": "stream",
          "text": [
            "\r 93%|█████████▎| 208/224 [02:29<00:12,  1.32it/s]"
          ]
        },
        {
          "name": "stdout",
          "output_type": "stream",
          "text": [
            "File with date: 2019-02-21 and CIK: 0000797468 has lemmatized word list of length: 25920\n"
          ]
        },
        {
          "name": "stderr",
          "output_type": "stream",
          "text": [
            "\r 93%|█████████▎| 209/224 [02:29<00:09,  1.61it/s]"
          ]
        },
        {
          "name": "stdout",
          "output_type": "stream",
          "text": [
            "File with date: 2018-02-23 and CIK: 0000797468 has lemmatized word list of length: 26051\n"
          ]
        },
        {
          "name": "stderr",
          "output_type": "stream",
          "text": [
            "\r 94%|█████████▍| 210/224 [02:29<00:07,  1.91it/s]"
          ]
        },
        {
          "name": "stdout",
          "output_type": "stream",
          "text": [
            "File with date: 2017-02-23 and CIK: 0000797468 has lemmatized word list of length: 25634\n"
          ]
        },
        {
          "name": "stderr",
          "output_type": "stream",
          "text": [
            "\r 94%|█████████▍| 211/224 [02:30<00:05,  2.21it/s]"
          ]
        },
        {
          "name": "stdout",
          "output_type": "stream",
          "text": [
            "File with date: 2016-02-26 and CIK: 0000797468 has lemmatized word list of length: 24970\n"
          ]
        },
        {
          "name": "stderr",
          "output_type": "stream",
          "text": [
            "\r 95%|█████████▍| 212/224 [02:30<00:04,  2.45it/s]"
          ]
        },
        {
          "name": "stdout",
          "output_type": "stream",
          "text": [
            "File with date: 2015-02-23 and CIK: 0000797468 has lemmatized word list of length: 25235\n"
          ]
        },
        {
          "name": "stderr",
          "output_type": "stream",
          "text": [
            "\r 95%|█████████▌| 213/224 [02:31<00:05,  1.97it/s]"
          ]
        },
        {
          "name": "stdout",
          "output_type": "stream",
          "text": [
            "File with date: 2019-02-22 and CIK: 0000750556 has lemmatized word list of length: 73686\n"
          ]
        },
        {
          "name": "stderr",
          "output_type": "stream",
          "text": [
            "\r 96%|█████████▌| 214/224 [02:32<00:07,  1.30it/s]"
          ]
        },
        {
          "name": "stdout",
          "output_type": "stream",
          "text": [
            "File with date: 2018-02-23 and CIK: 0000750556 has lemmatized word list of length: 57133\n"
          ]
        },
        {
          "name": "stderr",
          "output_type": "stream",
          "text": [
            "\r 96%|█████████▌| 215/224 [02:33<00:08,  1.08it/s]"
          ]
        },
        {
          "name": "stdout",
          "output_type": "stream",
          "text": [
            "File with date: 2017-02-24 and CIK: 0000750556 has lemmatized word list of length: 58853\n"
          ]
        },
        {
          "name": "stderr",
          "output_type": "stream",
          "text": [
            "\r 96%|█████████▋| 216/224 [02:34<00:06,  1.19it/s]"
          ]
        },
        {
          "name": "stdout",
          "output_type": "stream",
          "text": [
            "File with date: 2016-02-23 and CIK: 0000750556 has lemmatized word list of length: 57902\n"
          ]
        },
        {
          "name": "stderr",
          "output_type": "stream",
          "text": [
            "\r 97%|█████████▋| 217/224 [02:35<00:05,  1.26it/s]"
          ]
        },
        {
          "name": "stdout",
          "output_type": "stream",
          "text": [
            "File with date: 2015-02-24 and CIK: 0000750556 has lemmatized word list of length: 63199\n"
          ]
        },
        {
          "name": "stderr",
          "output_type": "stream",
          "text": [
            "\r 97%|█████████▋| 218/224 [02:35<00:04,  1.38it/s]"
          ]
        },
        {
          "name": "stdout",
          "output_type": "stream",
          "text": [
            "File with date: 2020-02-07 and CIK: 0001751788 has lemmatized word list of length: 55649\n"
          ]
        },
        {
          "name": "stderr",
          "output_type": "stream",
          "text": [
            "\r 98%|█████████▊| 219/224 [02:36<00:03,  1.44it/s]"
          ]
        },
        {
          "name": "stdout",
          "output_type": "stream",
          "text": [
            "File with date: 2020-02-26 and CIK: 0000788784 has lemmatized word list of length: 60761\n"
          ]
        },
        {
          "name": "stderr",
          "output_type": "stream",
          "text": [
            "\r 98%|█████████▊| 220/224 [02:37<00:02,  1.53it/s]"
          ]
        },
        {
          "name": "stdout",
          "output_type": "stream",
          "text": [
            "File with date: 2019-02-28 and CIK: 0000788784 has lemmatized word list of length: 46907\n"
          ]
        },
        {
          "name": "stderr",
          "output_type": "stream",
          "text": [
            "\r 99%|█████████▊| 221/224 [02:37<00:01,  1.61it/s]"
          ]
        },
        {
          "name": "stdout",
          "output_type": "stream",
          "text": [
            "File with date: 2018-02-26 and CIK: 0000788784 has lemmatized word list of length: 46581\n"
          ]
        },
        {
          "name": "stderr",
          "output_type": "stream",
          "text": [
            "\r 99%|█████████▉| 222/224 [02:38<00:01,  1.69it/s]"
          ]
        },
        {
          "name": "stdout",
          "output_type": "stream",
          "text": [
            "File with date: 2017-02-27 and CIK: 0000788784 has lemmatized word list of length: 45051\n"
          ]
        },
        {
          "name": "stderr",
          "output_type": "stream",
          "text": [
            "\r100%|█████████▉| 223/224 [02:38<00:00,  1.79it/s]"
          ]
        },
        {
          "name": "stdout",
          "output_type": "stream",
          "text": [
            "File with date: 2016-02-26 and CIK: 0000788784 has lemmatized word list of length: 40042\n"
          ]
        },
        {
          "name": "stderr",
          "output_type": "stream",
          "text": [
            "100%|██████████| 224/224 [02:39<00:00,  1.41it/s]"
          ]
        },
        {
          "name": "stdout",
          "output_type": "stream",
          "text": [
            "File with date: 2015-02-26 and CIK: 0000788784 has lemmatized word list of length: 36896\n"
          ]
        },
        {
          "name": "stderr",
          "output_type": "stream",
          "text": [
            "\n"
          ]
        }
      ],
      "source": [
        "# Demo used to show output\n",
        "ids = [0]\n",
        "for id in ids:\n",
        "  lemmatize_10K(id)"
      ]
    },
    {
      "cell_type": "markdown",
      "metadata": {
        "id": "4k9XFTvL0-Oc"
      },
      "source": [
        "## Sentiment Analysis"
      ]
    },
    {
      "cell_type": "markdown",
      "metadata": {
        "id": "R-sPwMctmJPN"
      },
      "source": [
        "We downloaded two dictionaries H4N-Inf and Fin_Neg from online resources. "
      ]
    },
    {
      "cell_type": "code",
      "execution_count": 10,
      "metadata": {
        "id": "Yk_Ag8A40IZA"
      },
      "outputs": [],
      "source": [
        "# Read H4N_Inf dictionary\n",
        "H4N_Inf = pd.read_csv('https://www3.nd.edu/~mcdonald/Data/Harvard%20IV_Negative%20Word%20List_Inf.txt', header=None, names=['H4N_Inf']).squeeze().str.lower()"
      ]
    },
    {
      "cell_type": "code",
      "execution_count": 11,
      "metadata": {
        "colab": {
          "base_uri": "https://localhost:8080/"
        },
        "id": "UGOYPYuE07mL",
        "outputId": "f7831f30-6b8f-4606-dc95-5fbda0def627"
      },
      "outputs": [
        {
          "data": {
            "text/plain": [
              "0         abandon\n",
              "1       abandoned\n",
              "2      abandoning\n",
              "3     abandonment\n",
              "4    abandonments\n",
              "Name: H4N_Inf, dtype: object"
            ]
          },
          "execution_count": 11,
          "metadata": {},
          "output_type": "execute_result"
        }
      ],
      "source": [
        "H4N_Inf.head()"
      ]
    },
    {
      "cell_type": "code",
      "execution_count": 12,
      "metadata": {
        "colab": {
          "base_uri": "https://localhost:8080/"
        },
        "id": "AgF2wvJcDjHW",
        "outputId": "8b29832b-6cbe-4ebd-aa6c-4448a5203bdd"
      },
      "outputs": [
        {
          "name": "stderr",
          "output_type": "stream",
          "text": [
            "/usr/local/lib/python3.7/dist-packages/openpyxl/worksheet/_reader.py:312: UserWarning: Unknown extension is not supported and will be removed\n",
            "  warn(msg)\n"
          ]
        }
      ],
      "source": [
        "# Read Fin_Neg dictionary\n",
        "Fin_Neg = pd.read_excel('Word_lists_for_22When_Is_a.xlsx', sheet_name='ND_FinTerms_Negative_v2', names=['Fin_Neg']).squeeze().str.lower()"
      ]
    },
    {
      "cell_type": "code",
      "execution_count": 13,
      "metadata": {
        "colab": {
          "base_uri": "https://localhost:8080/"
        },
        "id": "aj0mlAPHD2zA",
        "outputId": "692cfe83-1722-4077-ac59-f4317c5f195d"
      },
      "outputs": [
        {
          "data": {
            "text/plain": [
              "0       abandoned\n",
              "1      abandoning\n",
              "2     abandonment\n",
              "3    abandonments\n",
              "4        abandons\n",
              "Name: Fin_Neg, dtype: object"
            ]
          },
          "execution_count": 13,
          "metadata": {},
          "output_type": "execute_result"
        }
      ],
      "source": [
        "Fin_Neg.head()"
      ]
    },
    {
      "cell_type": "code",
      "execution_count": 14,
      "metadata": {
        "id": "M278AEOx1O6l"
      },
      "outputs": [],
      "source": [
        "# Calculate frequency with proportional measure\n",
        "def get_bag_of_words(sentiment_words, docs):\n",
        "    vec = CountVectorizer(vocabulary=sentiment_words)\n",
        "    vectors = vec.fit_transform(docs)\n",
        "    words_list = vec.get_feature_names_out()\n",
        "    bag_of_words = np.zeros([len(docs), len(words_list)])\n",
        "    for i in range(len(docs)):\n",
        "        bag_of_words[i] = vectors[i].toarray()[0]\n",
        "    return bag_of_words.astype(int)\n",
        "\n",
        "# Calculate frequency with TF-IDF\n",
        "from sklearn.feature_extraction.text import TfidfVectorizer\n",
        "def get_tfidf(sentiment_words, docs):\n",
        "    vec = TfidfVectorizer(vocabulary=sentiment_words)\n",
        "    tfidf = vec.fit_transform(docs)\n",
        "    return tfidf.toarray()"
      ]
    },
    {
      "cell_type": "code",
      "execution_count": 15,
      "metadata": {
        "id": "QXrSOtfvVVys"
      },
      "outputs": [],
      "source": [
        "# Function to Remove non-letters in the word list\n",
        "def discard_non_letters(word_list):\n",
        "  text = ' '.join(word_list).strip()\n",
        "  text_list = re.sub(\"[^a-zA-Z]\", \" \", text).split(' ')\n",
        "  return text_list"
      ]
    },
    {
      "cell_type": "code",
      "execution_count": 16,
      "metadata": {
        "colab": {
          "base_uri": "https://localhost:8080/"
        },
        "id": "5Svjc3pwUqzV",
        "outputId": "63033723-2375-4dd9-869f-5fb1d7d4de3b"
      },
      "outputs": [
        {
          "name": "stdout",
          "output_type": "stream",
          "text": [
            "Load file: 0 with size: 870\n",
            "Load file: 1 with size: 780\n",
            "Load file: 2 with size: 711\n",
            "Load file: 3 with size: 880\n",
            "Length of current batch:  3241\n",
            "Sanity Check: \n",
            "Original length of word list: 42789\n",
            "Length after removing non_letters: 67184\n",
            "Load file: 4 with size: 872\n",
            "Load file: 5 with size: 859\n",
            "Load file: 6 with size: 808\n",
            "Load file: 7 with size: 749\n",
            "Length of current batch:  3288\n",
            "Load file: 8 with size: 791\n",
            "Load file: 9 with size: 839\n",
            "Load file: 10 with size: 877\n",
            "Load file: 11 with size: 899\n",
            "Length of current batch:  3406\n",
            "Load file: 12 with size: 730\n",
            "Load file: 13 with size: 907\n",
            "Load file: 14 with size: 900\n",
            "Load file: 15 with size: 922\n",
            "Length of current batch:  3459\n",
            "Load file: 16 with size: 914\n",
            "Load file: 17 with size: 874\n",
            "Load file: 18 with size: 823\n",
            "Load file: 19 with size: 23\n",
            "Length of current batch:  2634\n"
          ]
        }
      ],
      "source": [
        "# We read in lemmatized files in batch due to limitation in storage\n",
        "range_list = [range(4), range(4, 8), range(8, 12), range(12, 16), range(16, 20)]\n",
        "for i, rg in enumerate(range_list):\n",
        "  ten_ks_by_ticker = []\n",
        "  for id in rg:\n",
        "    with open(('./10-Ks/statements'+str(id)+'.json'), 'r', encoding='utf-8') as f:\n",
        "      data = [item for d in f.read().splitlines() for item in json.loads(d)]\n",
        "      print(\"Load file:\", id, \"with size:\", len(data))\n",
        "      ten_ks_by_ticker = ten_ks_by_ticker + data\n",
        "  print('Length of current batch: ', len(ten_ks_by_ticker))\n",
        "\n",
        "  # Remove non_letters in word lists\n",
        "  for j, ten_k in enumerate(ten_ks_by_ticker):\n",
        "    # For Sanity Check:\n",
        "    if i==0 and j==0:\n",
        "      print(\"Sanity Check: \")\n",
        "      print(\"Original length of word list:\", len(ten_k['file']))\n",
        "      print(\"Length after removing non_letters:\", len(discard_non_letters(ten_k['file'])))\n",
        "    ten_k['file'] = discard_non_letters(ten_k['file'])\n",
        "  \n",
        "  # Calcualte word frequency in both proportional measure and TF-IDF based on two negative dictionaries\n",
        "  df = pd.DataFrame([[ten_k['cik'], ten_k['file_date'], len(ten_k['file'])] for ten_k in ten_ks_by_ticker], columns=['cik', 'file_date', 'total_word_count'])\n",
        "  df['H4N_Inf_Neg_count'] = get_bag_of_words(H4N_Inf, [' '.join(ten_k['file']) for ten_k in ten_ks_by_ticker]).sum(axis=1)\n",
        "  df['Fin_Neg_Neg_count'] = get_bag_of_words(Fin_Neg, [' '.join(ten_k['file']) for ten_k in ten_ks_by_ticker]).sum(axis=1)\n",
        "  df['pct_of_neg_words_H4N_Inf'] = df['H4N_Inf_Neg_count']/df['total_word_count']\n",
        "  df['pct_of_neg_words_Fin_Neg'] = df['Fin_Neg_Neg_count']/df['total_word_count']\n",
        "  df['tfidf_H4N_Inf'] = get_tfidf(H4N_Inf, [' '.join(ten_k['file']) for ten_k in ten_ks_by_ticker]).sum(axis=1)\n",
        "  df['tfidf_Fin_Neg'] = get_tfidf(Fin_Neg, [' '.join(ten_k['file']) for ten_k in ten_ks_by_ticker]).sum(axis=1)\n",
        "\n",
        "  # Save dataframe with word frequency in drive\n",
        "  df.to_csv(('./sentiment/sentiment_score_'+str(i)+'.csv'), index=False)"
      ]
    },
    {
      "cell_type": "markdown",
      "metadata": {
        "id": "8SgqX2dt7Q-u"
      },
      "source": [
        "## Plot Sentiment Result"
      ]
    },
    {
      "cell_type": "code",
      "execution_count": 17,
      "metadata": {
        "id": "xYItA5ta7al1"
      },
      "outputs": [],
      "source": [
        "df_lis = []\n",
        "for i, rg in enumerate(range_list):\n",
        "  df_lis.append(pd.read_csv('./sentiment/sentiment_score_'+str(i)+'.csv'))\n",
        "df = pd.concat(df_lis, axis=0)\n",
        "df.reset_index(drop=True, inplace=True)"
      ]
    },
    {
      "cell_type": "code",
      "execution_count": 18,
      "metadata": {
        "colab": {
          "base_uri": "https://localhost:8080/",
          "height": 206
        },
        "id": "K0OPaNRQ8K2i",
        "outputId": "63a02325-4732-4b6a-ebc0-46f3324872f8"
      },
      "outputs": [
        {
          "data": {
            "text/html": [
              "\n",
              "  <div id=\"df-57c4eabb-7e8d-4e58-a8b3-72b33d2b87bb\">\n",
              "    <div class=\"colab-df-container\">\n",
              "      <div>\n",
              "<style scoped>\n",
              "    .dataframe tbody tr th:only-of-type {\n",
              "        vertical-align: middle;\n",
              "    }\n",
              "\n",
              "    .dataframe tbody tr th {\n",
              "        vertical-align: top;\n",
              "    }\n",
              "\n",
              "    .dataframe thead th {\n",
              "        text-align: right;\n",
              "    }\n",
              "</style>\n",
              "<table border=\"1\" class=\"dataframe\">\n",
              "  <thead>\n",
              "    <tr style=\"text-align: right;\">\n",
              "      <th></th>\n",
              "      <th>cik</th>\n",
              "      <th>file_date</th>\n",
              "      <th>total_word_count</th>\n",
              "      <th>H4N_Inf_Neg_count</th>\n",
              "      <th>Fin_Neg_Neg_count</th>\n",
              "      <th>pct_of_neg_words_H4N_Inf</th>\n",
              "      <th>pct_of_neg_words_Fin_Neg</th>\n",
              "      <th>tfidf_H4N_Inf</th>\n",
              "      <th>tfidf_Fin_Neg</th>\n",
              "    </tr>\n",
              "  </thead>\n",
              "  <tbody>\n",
              "    <tr>\n",
              "      <th>0</th>\n",
              "      <td>814453</td>\n",
              "      <td>2021-02-19</td>\n",
              "      <td>67184</td>\n",
              "      <td>3374</td>\n",
              "      <td>1398</td>\n",
              "      <td>0.050220</td>\n",
              "      <td>0.020809</td>\n",
              "      <td>7.466821</td>\n",
              "      <td>8.180011</td>\n",
              "    </tr>\n",
              "    <tr>\n",
              "      <th>1</th>\n",
              "      <td>814453</td>\n",
              "      <td>2020-03-02</td>\n",
              "      <td>65662</td>\n",
              "      <td>3038</td>\n",
              "      <td>1246</td>\n",
              "      <td>0.046267</td>\n",
              "      <td>0.018976</td>\n",
              "      <td>7.313292</td>\n",
              "      <td>7.617411</td>\n",
              "    </tr>\n",
              "    <tr>\n",
              "      <th>2</th>\n",
              "      <td>814453</td>\n",
              "      <td>2019-03-04</td>\n",
              "      <td>34364</td>\n",
              "      <td>2261</td>\n",
              "      <td>919</td>\n",
              "      <td>0.065796</td>\n",
              "      <td>0.026743</td>\n",
              "      <td>6.933814</td>\n",
              "      <td>7.874905</td>\n",
              "    </tr>\n",
              "    <tr>\n",
              "      <th>3</th>\n",
              "      <td>814453</td>\n",
              "      <td>2018-03-01</td>\n",
              "      <td>34269</td>\n",
              "      <td>2190</td>\n",
              "      <td>759</td>\n",
              "      <td>0.063906</td>\n",
              "      <td>0.022148</td>\n",
              "      <td>6.640117</td>\n",
              "      <td>7.330202</td>\n",
              "    </tr>\n",
              "    <tr>\n",
              "      <th>4</th>\n",
              "      <td>814453</td>\n",
              "      <td>2017-03-01</td>\n",
              "      <td>46466</td>\n",
              "      <td>2473</td>\n",
              "      <td>882</td>\n",
              "      <td>0.053222</td>\n",
              "      <td>0.018982</td>\n",
              "      <td>6.567894</td>\n",
              "      <td>7.521848</td>\n",
              "    </tr>\n",
              "  </tbody>\n",
              "</table>\n",
              "</div>\n",
              "      <button class=\"colab-df-convert\" onclick=\"convertToInteractive('df-57c4eabb-7e8d-4e58-a8b3-72b33d2b87bb')\"\n",
              "              title=\"Convert this dataframe to an interactive table.\"\n",
              "              style=\"display:none;\">\n",
              "        \n",
              "  <svg xmlns=\"http://www.w3.org/2000/svg\" height=\"24px\"viewBox=\"0 0 24 24\"\n",
              "       width=\"24px\">\n",
              "    <path d=\"M0 0h24v24H0V0z\" fill=\"none\"/>\n",
              "    <path d=\"M18.56 5.44l.94 2.06.94-2.06 2.06-.94-2.06-.94-.94-2.06-.94 2.06-2.06.94zm-11 1L8.5 8.5l.94-2.06 2.06-.94-2.06-.94L8.5 2.5l-.94 2.06-2.06.94zm10 10l.94 2.06.94-2.06 2.06-.94-2.06-.94-.94-2.06-.94 2.06-2.06.94z\"/><path d=\"M17.41 7.96l-1.37-1.37c-.4-.4-.92-.59-1.43-.59-.52 0-1.04.2-1.43.59L10.3 9.45l-7.72 7.72c-.78.78-.78 2.05 0 2.83L4 21.41c.39.39.9.59 1.41.59.51 0 1.02-.2 1.41-.59l7.78-7.78 2.81-2.81c.8-.78.8-2.07 0-2.86zM5.41 20L4 18.59l7.72-7.72 1.47 1.35L5.41 20z\"/>\n",
              "  </svg>\n",
              "      </button>\n",
              "      \n",
              "  <style>\n",
              "    .colab-df-container {\n",
              "      display:flex;\n",
              "      flex-wrap:wrap;\n",
              "      gap: 12px;\n",
              "    }\n",
              "\n",
              "    .colab-df-convert {\n",
              "      background-color: #E8F0FE;\n",
              "      border: none;\n",
              "      border-radius: 50%;\n",
              "      cursor: pointer;\n",
              "      display: none;\n",
              "      fill: #1967D2;\n",
              "      height: 32px;\n",
              "      padding: 0 0 0 0;\n",
              "      width: 32px;\n",
              "    }\n",
              "\n",
              "    .colab-df-convert:hover {\n",
              "      background-color: #E2EBFA;\n",
              "      box-shadow: 0px 1px 2px rgba(60, 64, 67, 0.3), 0px 1px 3px 1px rgba(60, 64, 67, 0.15);\n",
              "      fill: #174EA6;\n",
              "    }\n",
              "\n",
              "    [theme=dark] .colab-df-convert {\n",
              "      background-color: #3B4455;\n",
              "      fill: #D2E3FC;\n",
              "    }\n",
              "\n",
              "    [theme=dark] .colab-df-convert:hover {\n",
              "      background-color: #434B5C;\n",
              "      box-shadow: 0px 1px 3px 1px rgba(0, 0, 0, 0.15);\n",
              "      filter: drop-shadow(0px 1px 2px rgba(0, 0, 0, 0.3));\n",
              "      fill: #FFFFFF;\n",
              "    }\n",
              "  </style>\n",
              "\n",
              "      <script>\n",
              "        const buttonEl =\n",
              "          document.querySelector('#df-57c4eabb-7e8d-4e58-a8b3-72b33d2b87bb button.colab-df-convert');\n",
              "        buttonEl.style.display =\n",
              "          google.colab.kernel.accessAllowed ? 'block' : 'none';\n",
              "\n",
              "        async function convertToInteractive(key) {\n",
              "          const element = document.querySelector('#df-57c4eabb-7e8d-4e58-a8b3-72b33d2b87bb');\n",
              "          const dataTable =\n",
              "            await google.colab.kernel.invokeFunction('convertToInteractive',\n",
              "                                                     [key], {});\n",
              "          if (!dataTable) return;\n",
              "\n",
              "          const docLinkHtml = 'Like what you see? Visit the ' +\n",
              "            '<a target=\"_blank\" href=https://colab.research.google.com/notebooks/data_table.ipynb>data table notebook</a>'\n",
              "            + ' to learn more about interactive tables.';\n",
              "          element.innerHTML = '';\n",
              "          dataTable['output_type'] = 'display_data';\n",
              "          await google.colab.output.renderOutput(dataTable, element);\n",
              "          const docLink = document.createElement('div');\n",
              "          docLink.innerHTML = docLinkHtml;\n",
              "          element.appendChild(docLink);\n",
              "        }\n",
              "      </script>\n",
              "    </div>\n",
              "  </div>\n",
              "  "
            ],
            "text/plain": [
              "      cik   file_date  total_word_count  H4N_Inf_Neg_count  Fin_Neg_Neg_count  \\\n",
              "0  814453  2021-02-19             67184               3374               1398   \n",
              "1  814453  2020-03-02             65662               3038               1246   \n",
              "2  814453  2019-03-04             34364               2261                919   \n",
              "3  814453  2018-03-01             34269               2190                759   \n",
              "4  814453  2017-03-01             46466               2473                882   \n",
              "\n",
              "   pct_of_neg_words_H4N_Inf  pct_of_neg_words_Fin_Neg  tfidf_H4N_Inf  \\\n",
              "0                  0.050220                  0.020809       7.466821   \n",
              "1                  0.046267                  0.018976       7.313292   \n",
              "2                  0.065796                  0.026743       6.933814   \n",
              "3                  0.063906                  0.022148       6.640117   \n",
              "4                  0.053222                  0.018982       6.567894   \n",
              "\n",
              "   tfidf_Fin_Neg  \n",
              "0       8.180011  \n",
              "1       7.617411  \n",
              "2       7.874905  \n",
              "3       7.330202  \n",
              "4       7.521848  "
            ]
          },
          "execution_count": 18,
          "metadata": {},
          "output_type": "execute_result"
        }
      ],
      "source": [
        "df.head()"
      ]
    },
    {
      "cell_type": "code",
      "execution_count": 19,
      "metadata": {
        "colab": {
          "base_uri": "https://localhost:8080/"
        },
        "id": "bur6sM178NGU",
        "outputId": "7e8557c2-788c-4e30-eafc-c8109b4fd1a3"
      },
      "outputs": [
        {
          "data": {
            "text/plain": [
              "(16028, 9)"
            ]
          },
          "execution_count": 19,
          "metadata": {},
          "output_type": "execute_result"
        }
      ],
      "source": [
        "df.shape"
      ]
    },
    {
      "cell_type": "code",
      "execution_count": 20,
      "metadata": {
        "id": "J8ay2vrfu5gu"
      },
      "outputs": [],
      "source": [
        "# Drop year 2016 as result from 5 years 2017-2021 is required\n",
        "df = df[df.file_date.str[:4] != '2016']"
      ]
    },
    {
      "cell_type": "code",
      "execution_count": 21,
      "metadata": {
        "id": "Nc26uSff4Zc1"
      },
      "outputs": [],
      "source": [
        "for i, row in df.iterrows():\n",
        "  try: \n",
        "    permno = int(PERMNO_CIK_lookup_t[df.loc[i, 'cik']])\n",
        "  except TypeError:\n",
        "    permno = int(PERMNO_CIK_lookup_t[df.loc[i, 'cik']].iloc[-1])\n",
        "  except KeyError:\n",
        "    df.loc[i, 'excess_return'] = np.nan\n",
        "    print(\"Cannot find CIK: \", df.loc[i, 'cik'])\n",
        "\n",
        "  try:\n",
        "    df.loc[i, 'excess_return'] = excess_return.loc[df.loc[i, 'file_date'].replace('-', ''), permno]\n",
        "  except KeyError:\n",
        "    df.loc[i, 'excess_return'] = np.nan\n",
        "    # print(\"Cannot find return with date: {}, permno: {}, cik: {}\".format(df.loc[i, 'file_date'], permno, df.loc[i, 'cik']))"
      ]
    },
    {
      "cell_type": "markdown",
      "metadata": {
        "id": "iGW7vvdNN7XM"
      },
      "source": [
        "Noticed that returns from 2016 to 2021 are mapped correctly."
      ]
    },
    {
      "cell_type": "code",
      "execution_count": 22,
      "metadata": {
        "colab": {
          "base_uri": "https://localhost:8080/",
          "height": 206
        },
        "id": "4DxhMxrS_q0w",
        "outputId": "cd4b0639-3bdf-40a9-c5ea-0d8ece49f49b"
      },
      "outputs": [
        {
          "data": {
            "text/html": [
              "\n",
              "  <div id=\"df-7219e019-2529-4f98-a7e3-8d8f110c51b4\">\n",
              "    <div class=\"colab-df-container\">\n",
              "      <div>\n",
              "<style scoped>\n",
              "    .dataframe tbody tr th:only-of-type {\n",
              "        vertical-align: middle;\n",
              "    }\n",
              "\n",
              "    .dataframe tbody tr th {\n",
              "        vertical-align: top;\n",
              "    }\n",
              "\n",
              "    .dataframe thead th {\n",
              "        text-align: right;\n",
              "    }\n",
              "</style>\n",
              "<table border=\"1\" class=\"dataframe\">\n",
              "  <thead>\n",
              "    <tr style=\"text-align: right;\">\n",
              "      <th></th>\n",
              "      <th>cik</th>\n",
              "      <th>file_date</th>\n",
              "      <th>total_word_count</th>\n",
              "      <th>H4N_Inf_Neg_count</th>\n",
              "      <th>Fin_Neg_Neg_count</th>\n",
              "      <th>pct_of_neg_words_H4N_Inf</th>\n",
              "      <th>pct_of_neg_words_Fin_Neg</th>\n",
              "      <th>tfidf_H4N_Inf</th>\n",
              "      <th>tfidf_Fin_Neg</th>\n",
              "      <th>excess_return</th>\n",
              "    </tr>\n",
              "  </thead>\n",
              "  <tbody>\n",
              "    <tr>\n",
              "      <th>0</th>\n",
              "      <td>814453</td>\n",
              "      <td>2021-02-19</td>\n",
              "      <td>67184</td>\n",
              "      <td>3374</td>\n",
              "      <td>1398</td>\n",
              "      <td>0.050220</td>\n",
              "      <td>0.020809</td>\n",
              "      <td>7.466821</td>\n",
              "      <td>8.180011</td>\n",
              "      <td>0.029157</td>\n",
              "    </tr>\n",
              "    <tr>\n",
              "      <th>1</th>\n",
              "      <td>814453</td>\n",
              "      <td>2020-03-02</td>\n",
              "      <td>65662</td>\n",
              "      <td>3038</td>\n",
              "      <td>1246</td>\n",
              "      <td>0.046267</td>\n",
              "      <td>0.018976</td>\n",
              "      <td>7.313292</td>\n",
              "      <td>7.617411</td>\n",
              "      <td>-0.104240</td>\n",
              "    </tr>\n",
              "    <tr>\n",
              "      <th>2</th>\n",
              "      <td>814453</td>\n",
              "      <td>2019-03-04</td>\n",
              "      <td>34364</td>\n",
              "      <td>2261</td>\n",
              "      <td>919</td>\n",
              "      <td>0.065796</td>\n",
              "      <td>0.026743</td>\n",
              "      <td>6.933814</td>\n",
              "      <td>7.874905</td>\n",
              "      <td>-0.022201</td>\n",
              "    </tr>\n",
              "    <tr>\n",
              "      <th>3</th>\n",
              "      <td>814453</td>\n",
              "      <td>2018-03-01</td>\n",
              "      <td>34269</td>\n",
              "      <td>2190</td>\n",
              "      <td>759</td>\n",
              "      <td>0.063906</td>\n",
              "      <td>0.022148</td>\n",
              "      <td>6.640117</td>\n",
              "      <td>7.330202</td>\n",
              "      <td>0.080053</td>\n",
              "    </tr>\n",
              "    <tr>\n",
              "      <th>4</th>\n",
              "      <td>814453</td>\n",
              "      <td>2017-03-01</td>\n",
              "      <td>46466</td>\n",
              "      <td>2473</td>\n",
              "      <td>882</td>\n",
              "      <td>0.053222</td>\n",
              "      <td>0.018982</td>\n",
              "      <td>6.567894</td>\n",
              "      <td>7.521848</td>\n",
              "      <td>-0.006055</td>\n",
              "    </tr>\n",
              "  </tbody>\n",
              "</table>\n",
              "</div>\n",
              "      <button class=\"colab-df-convert\" onclick=\"convertToInteractive('df-7219e019-2529-4f98-a7e3-8d8f110c51b4')\"\n",
              "              title=\"Convert this dataframe to an interactive table.\"\n",
              "              style=\"display:none;\">\n",
              "        \n",
              "  <svg xmlns=\"http://www.w3.org/2000/svg\" height=\"24px\"viewBox=\"0 0 24 24\"\n",
              "       width=\"24px\">\n",
              "    <path d=\"M0 0h24v24H0V0z\" fill=\"none\"/>\n",
              "    <path d=\"M18.56 5.44l.94 2.06.94-2.06 2.06-.94-2.06-.94-.94-2.06-.94 2.06-2.06.94zm-11 1L8.5 8.5l.94-2.06 2.06-.94-2.06-.94L8.5 2.5l-.94 2.06-2.06.94zm10 10l.94 2.06.94-2.06 2.06-.94-2.06-.94-.94-2.06-.94 2.06-2.06.94z\"/><path d=\"M17.41 7.96l-1.37-1.37c-.4-.4-.92-.59-1.43-.59-.52 0-1.04.2-1.43.59L10.3 9.45l-7.72 7.72c-.78.78-.78 2.05 0 2.83L4 21.41c.39.39.9.59 1.41.59.51 0 1.02-.2 1.41-.59l7.78-7.78 2.81-2.81c.8-.78.8-2.07 0-2.86zM5.41 20L4 18.59l7.72-7.72 1.47 1.35L5.41 20z\"/>\n",
              "  </svg>\n",
              "      </button>\n",
              "      \n",
              "  <style>\n",
              "    .colab-df-container {\n",
              "      display:flex;\n",
              "      flex-wrap:wrap;\n",
              "      gap: 12px;\n",
              "    }\n",
              "\n",
              "    .colab-df-convert {\n",
              "      background-color: #E8F0FE;\n",
              "      border: none;\n",
              "      border-radius: 50%;\n",
              "      cursor: pointer;\n",
              "      display: none;\n",
              "      fill: #1967D2;\n",
              "      height: 32px;\n",
              "      padding: 0 0 0 0;\n",
              "      width: 32px;\n",
              "    }\n",
              "\n",
              "    .colab-df-convert:hover {\n",
              "      background-color: #E2EBFA;\n",
              "      box-shadow: 0px 1px 2px rgba(60, 64, 67, 0.3), 0px 1px 3px 1px rgba(60, 64, 67, 0.15);\n",
              "      fill: #174EA6;\n",
              "    }\n",
              "\n",
              "    [theme=dark] .colab-df-convert {\n",
              "      background-color: #3B4455;\n",
              "      fill: #D2E3FC;\n",
              "    }\n",
              "\n",
              "    [theme=dark] .colab-df-convert:hover {\n",
              "      background-color: #434B5C;\n",
              "      box-shadow: 0px 1px 3px 1px rgba(0, 0, 0, 0.15);\n",
              "      filter: drop-shadow(0px 1px 2px rgba(0, 0, 0, 0.3));\n",
              "      fill: #FFFFFF;\n",
              "    }\n",
              "  </style>\n",
              "\n",
              "      <script>\n",
              "        const buttonEl =\n",
              "          document.querySelector('#df-7219e019-2529-4f98-a7e3-8d8f110c51b4 button.colab-df-convert');\n",
              "        buttonEl.style.display =\n",
              "          google.colab.kernel.accessAllowed ? 'block' : 'none';\n",
              "\n",
              "        async function convertToInteractive(key) {\n",
              "          const element = document.querySelector('#df-7219e019-2529-4f98-a7e3-8d8f110c51b4');\n",
              "          const dataTable =\n",
              "            await google.colab.kernel.invokeFunction('convertToInteractive',\n",
              "                                                     [key], {});\n",
              "          if (!dataTable) return;\n",
              "\n",
              "          const docLinkHtml = 'Like what you see? Visit the ' +\n",
              "            '<a target=\"_blank\" href=https://colab.research.google.com/notebooks/data_table.ipynb>data table notebook</a>'\n",
              "            + ' to learn more about interactive tables.';\n",
              "          element.innerHTML = '';\n",
              "          dataTable['output_type'] = 'display_data';\n",
              "          await google.colab.output.renderOutput(dataTable, element);\n",
              "          const docLink = document.createElement('div');\n",
              "          docLink.innerHTML = docLinkHtml;\n",
              "          element.appendChild(docLink);\n",
              "        }\n",
              "      </script>\n",
              "    </div>\n",
              "  </div>\n",
              "  "
            ],
            "text/plain": [
              "      cik   file_date  total_word_count  H4N_Inf_Neg_count  Fin_Neg_Neg_count  \\\n",
              "0  814453  2021-02-19             67184               3374               1398   \n",
              "1  814453  2020-03-02             65662               3038               1246   \n",
              "2  814453  2019-03-04             34364               2261                919   \n",
              "3  814453  2018-03-01             34269               2190                759   \n",
              "4  814453  2017-03-01             46466               2473                882   \n",
              "\n",
              "   pct_of_neg_words_H4N_Inf  pct_of_neg_words_Fin_Neg  tfidf_H4N_Inf  \\\n",
              "0                  0.050220                  0.020809       7.466821   \n",
              "1                  0.046267                  0.018976       7.313292   \n",
              "2                  0.065796                  0.026743       6.933814   \n",
              "3                  0.063906                  0.022148       6.640117   \n",
              "4                  0.053222                  0.018982       6.567894   \n",
              "\n",
              "   tfidf_Fin_Neg  excess_return  \n",
              "0       8.180011       0.029157  \n",
              "1       7.617411      -0.104240  \n",
              "2       7.874905      -0.022201  \n",
              "3       7.330202       0.080053  \n",
              "4       7.521848      -0.006055  "
            ]
          },
          "execution_count": 22,
          "metadata": {},
          "output_type": "execute_result"
        }
      ],
      "source": [
        "df.head()"
      ]
    },
    {
      "cell_type": "code",
      "execution_count": 23,
      "metadata": {
        "id": "CX_WOcxVnpBn"
      },
      "outputs": [],
      "source": [
        "df = df[df.excess_return.notnull()]"
      ]
    },
    {
      "cell_type": "code",
      "execution_count": 24,
      "metadata": {
        "colab": {
          "base_uri": "https://localhost:8080/"
        },
        "id": "wq-wSwQSnvmE",
        "outputId": "c93b19d8-f306-4511-9143-091b9cb432dd"
      },
      "outputs": [
        {
          "data": {
            "text/plain": [
              "(13028, 10)"
            ]
          },
          "execution_count": 24,
          "metadata": {},
          "output_type": "execute_result"
        }
      ],
      "source": [
        "# Number of documents available \n",
        "df.shape"
      ]
    },
    {
      "cell_type": "code",
      "execution_count": 25,
      "metadata": {
        "id": "3XnQkj6-Q1ZB"
      },
      "outputs": [],
      "source": [
        "df['H4N_Inf_quantile'] = pd.qcut(df['pct_of_neg_words_H4N_Inf'], 5, labels=False)\n",
        "df['Fin_Neg_quantile'] = pd.qcut(df['pct_of_neg_words_Fin_Neg'], 5, labels=False)\n",
        "df['H4N_Inf_quantile_tfidf'] = pd.qcut(df['tfidf_H4N_Inf'], 5, labels=False)\n",
        "df['Fin_Neg_quantile_tfidf'] = pd.qcut(df['tfidf_Fin_Neg'], 5, labels=False)"
      ]
    },
    {
      "cell_type": "code",
      "execution_count": 26,
      "metadata": {
        "colab": {
          "base_uri": "https://localhost:8080/",
          "height": 295
        },
        "id": "Q2lTfnhnJG9w",
        "outputId": "b3f29459-c940-437d-a574-9c147a8f7202"
      },
      "outputs": [
        {
          "data": {
            "image/png": "[encoded data removed]",
            "text/plain": [
              "<Figure size 432x288 with 1 Axes>"
            ]
          },
          "metadata": {
            "needs_background": "light"
          },
          "output_type": "display_data"
        }
      ],
      "source": [
        "table_1_with_proportion = df.groupby('H4N_Inf_quantile')['excess_return'].median().to_frame('H4N_Inf').merge(\n",
        "    df.groupby('Fin_Neg_quantile')['excess_return'].median().to_frame('Fin_Neg'), left_index=True, right_index=True)\n",
        "table_1_with_proportion.index = (table_1_with_proportion.index+1).astype(str)\n",
        "table_1_with_proportion = table_1_with_proportion*100 # write into percentage\n",
        "table_1_with_proportion.plot()\n",
        "plt.title('When Is a Liability Not a liability? (Proportional Measure)')\n",
        "plt.ylabel('Median Filling Period Excess Return in %')\n",
        "plt.xlabel('Quintile (based on proportion of negative words)')\n",
        "plt.show()"
      ]
    },
    {
      "cell_type": "code",
      "execution_count": 27,
      "metadata": {
        "colab": {
          "base_uri": "https://localhost:8080/",
          "height": 295
        },
        "id": "4rBtLbf7_88n",
        "outputId": "1e6002b3-6aed-4db0-be15-0492ca9c3c5f"
      },
      "outputs": [
        {
          "data": {
            "image/png": "[encoded data removed]",
            "text/plain": [
              "<Figure size 432x288 with 1 Axes>"
            ]
          },
          "metadata": {
            "needs_background": "light"
          },
          "output_type": "display_data"
        }
      ],
      "source": [
        "table_2_with_proportion = df.groupby('H4N_Inf_quantile_tfidf')['excess_return'].median().to_frame('H4N_Inf').merge(\n",
        "    df.groupby('Fin_Neg_quantile_tfidf')['excess_return'].median().to_frame('Fin_Neg'), left_index=True, right_index=True)\n",
        "table_2_with_proportion.index = (table_2_with_proportion.index+1).astype(str)\n",
        "table_2_with_proportion = table_2_with_proportion*100 # write into percentage\n",
        "table_2_with_proportion.plot()\n",
        "plt.title('When Is a Liability Not a liability? (TF-IDF Measure)')\n",
        "plt.ylabel('Median Filling Period Excess Return in %')\n",
        "plt.xlabel('Quintile (based on proportion of negative words)')\n",
        "plt.show()"
      ]
    }
  ],
  "metadata": {
    "colab": {
      "collapsed_sections": [],
      "provenance": []
    },
    "kernelspec": {
      "display_name": "Python 3",
      "name": "python3"
    },
    "language_info": {
      "name": "python"
    }
  },
  "nbformat": 4,
  "nbformat_minor": 0
}
